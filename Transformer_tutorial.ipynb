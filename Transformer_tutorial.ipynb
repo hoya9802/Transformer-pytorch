{
 "cells": [
  {
   "cell_type": "code",
   "execution_count": 1,
   "id": "8296e231-f46d-4646-8821-6a188a7bb1b5",
   "metadata": {},
   "outputs": [],
   "source": [
    "import matplotlib.pyplot as plt\n",
    "plt.rc('font', family=\"Malgun Gothic\")"
   ]
  },
  {
   "cell_type": "code",
   "execution_count": 2,
   "id": "ab065354-2ca1-4fe1-9eb3-c039534616b7",
   "metadata": {},
   "outputs": [
    {
     "name": "stderr",
     "output_type": "stream",
     "text": [
      "c:\\Users\\hoya9\\anaconda3\\envs\\torch-gpu\\lib\\site-packages\\tqdm\\auto.py:21: TqdmWarning: IProgress not found. Please update jupyter and ipywidgets. See https://ipywidgets.readthedocs.io/en/stable/user_install.html\n",
      "  from .autonotebook import tqdm as notebook_tqdm\n"
     ]
    },
    {
     "name": "stdout",
     "output_type": "stream",
     "text": [
      "cuda\n"
     ]
    }
   ],
   "source": [
    "import torch\n",
    "from torch import nn, optim\n",
    "from torch.optim.lr_scheduler import CosineAnnealingWarmRestarts\n",
    "from transformers import MarianMTModel, MarianTokenizer # translation machine\n",
    "import pandas as pd\n",
    "from tqdm import tqdm\n",
    "import math, random\n",
    "from einops import rearrange\n",
    "\n",
    "DEVICE = \"cuda\" if torch.cuda.is_available() else \"CPU\"\n",
    "print(DEVICE)"
   ]
  },
  {
   "cell_type": "code",
   "execution_count": 3,
   "id": "67c8bdb5",
   "metadata": {},
   "outputs": [],
   "source": [
    "# for reproducibility\n",
    "random_seed = 0\n",
    "torch.manual_seed(random_seed)\n",
    "torch.cuda.manual_seed(random_seed)\n",
    "torch.cuda.manual_seed_all(random_seed) # Multi-GPU case\n",
    "torch.backends.cudnn.deterministic = True\n",
    "torch.backends.cudnn.benchmark = False\n",
    "random.seed(random_seed)"
   ]
  },
  {
   "cell_type": "code",
   "execution_count": 4,
   "id": "da12c12e",
   "metadata": {},
   "outputs": [],
   "source": [
    "# Load the tokenizer & model\n",
    "tokenizer = MarianTokenizer.from_pretrained('Helsinki-NLP/opus-mt-ko-en')\n",
    "model = MarianMTModel.from_pretrained('Helsinki-NLP/opus-mt-ko-en') # MT: Machine Translation"
   ]
  },
  {
   "cell_type": "code",
   "execution_count": 5,
   "id": "158f7887",
   "metadata": {},
   "outputs": [
    {
     "name": "stdout",
     "output_type": "stream",
     "text": [
      "eos_idx =  0\n",
      "pad_idx =  65000\n"
     ]
    }
   ],
   "source": [
    "eos_idx = tokenizer.eos_token_id\n",
    "pad_idx = tokenizer.pad_token_id\n",
    "print('eos_idx = ', eos_idx)\n",
    "print('pad_idx = ', pad_idx)"
   ]
  },
  {
   "cell_type": "markdown",
   "id": "b06b90c7",
   "metadata": {},
   "source": [
    "## 하이퍼파라미터 조정"
   ]
  },
  {
   "cell_type": "code",
   "execution_count": 6,
   "id": "1cc9f2b0",
   "metadata": {},
   "outputs": [
    {
     "name": "stderr",
     "output_type": "stream",
     "text": [
      "A subdirectory or file data already exists.\n"
     ]
    },
    {
     "name": "stderr",
     "output_type": "stream",
     "text": [
      "Downloading...\n",
      "From (original): https://drive.google.com/uc?id=1bjbeWgqlVKJ9gzDcL1hfD9cIItQy9_N2\n",
      "From (redirected): https://drive.google.com/uc?id=1bjbeWgqlVKJ9gzDcL1hfD9cIItQy9_N2&confirm=t&uuid=edb49592-922c-4d73-a623-45413bbaf8f5\n",
      "To: c:\\Users\\hoya9\\OneDrive\\Desktop\\torch-gpu\\Workspace\\Transformer-pytorch\\data\\Transformer_small.pt\n",
      "\n",
      "  0%|          | 0.00/448M [00:00<?, ?B/s]\n",
      "  0%|          | 524k/448M [00:00<02:25, 3.08MB/s]\n",
      "  1%|          | 3.15M/448M [00:00<00:33, 13.3MB/s]\n",
      "  2%|▏         | 6.82M/448M [00:00<00:23, 18.9MB/s]\n",
      "  2%|▏         | 9.44M/448M [00:00<00:21, 20.8MB/s]\n",
      "  3%|▎         | 15.2M/448M [00:00<00:20, 21.0MB/s]\n",
      "  4%|▍         | 18.4M/448M [00:00<00:18, 23.2MB/s]\n",
      "  5%|▍         | 21.0M/448M [00:01<00:42, 10.2MB/s]\n",
      "  6%|▌         | 25.2M/448M [00:01<00:29, 14.1MB/s]\n",
      "  6%|▌         | 27.8M/448M [00:01<00:30, 13.9MB/s]\n",
      "  7%|▋         | 32.0M/448M [00:02<00:26, 15.6MB/s]\n",
      "  8%|▊         | 34.1M/448M [00:02<00:29, 14.2MB/s]\n",
      "  9%|▊         | 38.3M/448M [00:02<00:22, 17.8MB/s]\n",
      "  9%|▉         | 42.5M/448M [00:02<00:18, 22.0MB/s]\n",
      " 10%|█         | 46.1M/448M [00:02<00:17, 23.3MB/s]\n",
      " 11%|█▏        | 51.4M/448M [00:02<00:13, 29.0MB/s]\n",
      " 12%|█▏        | 55.1M/448M [00:02<00:15, 24.9MB/s]\n",
      " 13%|█▎        | 59.8M/448M [00:03<00:14, 26.2MB/s]\n",
      " 15%|█▍        | 66.1M/448M [00:03<00:12, 30.7MB/s]\n",
      " 16%|█▌        | 70.8M/448M [00:03<00:11, 33.5MB/s]\n",
      " 17%|█▋        | 74.4M/448M [00:03<00:20, 18.2MB/s]\n",
      " 18%|█▊        | 79.7M/448M [00:03<00:16, 22.9MB/s]\n",
      " 19%|█▊        | 83.4M/448M [00:04<00:20, 17.6MB/s]\n",
      " 19%|█▉        | 86.5M/448M [00:04<00:18, 19.3MB/s]\n",
      " 20%|█▉        | 89.7M/448M [00:04<00:20, 17.9MB/s]\n",
      " 21%|██        | 92.8M/448M [00:04<00:20, 17.4MB/s]\n",
      " 21%|██▏       | 95.4M/448M [00:04<00:19, 17.7MB/s]\n",
      " 22%|██▏       | 100M/448M [00:05<00:15, 23.1MB/s] \n",
      " 23%|██▎       | 103M/448M [00:05<00:14, 23.1MB/s]\n",
      " 24%|██▎       | 106M/448M [00:05<00:14, 24.2MB/s]\n",
      " 24%|██▍       | 110M/448M [00:05<00:13, 25.4MB/s]\n",
      " 25%|██▌       | 114M/448M [00:05<00:11, 29.2MB/s]\n",
      " 26%|██▋       | 118M/448M [00:05<00:12, 25.6MB/s]\n",
      " 27%|██▋       | 121M/448M [00:05<00:13, 24.7MB/s]\n",
      " 28%|██▊       | 126M/448M [00:06<00:10, 29.3MB/s]\n",
      " 29%|██▉       | 129M/448M [00:06<00:21, 15.2MB/s]\n",
      " 30%|██▉       | 134M/448M [00:06<00:15, 19.7MB/s]\n",
      " 31%|███       | 139M/448M [00:06<00:12, 24.1MB/s]\n",
      " 32%|███▏      | 144M/448M [00:06<00:10, 29.0MB/s]\n",
      " 33%|███▎      | 149M/448M [00:06<00:08, 33.3MB/s]\n",
      " 34%|███▍      | 155M/448M [00:07<00:07, 37.7MB/s]\n",
      " 36%|███▌      | 159M/448M [00:07<00:07, 39.8MB/s]\n",
      " 37%|███▋      | 165M/448M [00:07<00:06, 42.7MB/s]\n",
      " 38%|███▊      | 169M/448M [00:07<00:06, 40.8MB/s]\n",
      " 39%|███▉      | 175M/448M [00:07<00:06, 41.7MB/s]\n",
      " 40%|███▉      | 179M/448M [00:07<00:07, 37.9MB/s]\n",
      " 41%|████      | 184M/448M [00:07<00:06, 38.6MB/s]\n",
      " 42%|████▏     | 188M/448M [00:08<00:09, 26.9MB/s]\n",
      " 43%|████▎     | 193M/448M [00:08<00:08, 31.6MB/s]\n",
      " 44%|████▍     | 199M/448M [00:08<00:06, 36.7MB/s]\n",
      " 45%|████▌     | 203M/448M [00:08<00:06, 35.5MB/s]\n",
      " 46%|████▋     | 208M/448M [00:08<00:06, 37.8MB/s]\n",
      " 47%|████▋     | 212M/448M [00:08<00:06, 37.7MB/s]\n",
      " 48%|████▊     | 217M/448M [00:08<00:05, 39.7MB/s]\n",
      " 49%|████▉     | 222M/448M [00:08<00:05, 40.7MB/s]\n",
      " 51%|█████     | 226M/448M [00:08<00:05, 41.5MB/s]\n",
      " 52%|█████▏    | 231M/448M [00:09<00:05, 42.9MB/s]\n",
      " 53%|█████▎    | 236M/448M [00:09<00:04, 43.4MB/s]\n",
      " 54%|█████▎    | 241M/448M [00:09<00:05, 38.5MB/s]\n",
      " 55%|█████▍    | 245M/448M [00:09<00:05, 40.1MB/s]\n",
      " 56%|█████▌    | 250M/448M [00:09<00:04, 40.7MB/s]\n",
      " 57%|█████▋    | 255M/448M [00:09<00:04, 42.1MB/s]\n",
      " 58%|█████▊    | 260M/448M [00:09<00:04, 40.8MB/s]\n",
      " 59%|█████▉    | 264M/448M [00:09<00:04, 39.1MB/s]\n",
      " 60%|█████▉    | 268M/448M [00:09<00:04, 39.1MB/s]\n",
      " 61%|██████    | 273M/448M [00:10<00:04, 40.3MB/s]\n",
      " 62%|██████▏   | 277M/448M [00:10<00:04, 35.6MB/s]\n",
      " 63%|██████▎   | 282M/448M [00:10<00:04, 37.8MB/s]\n",
      " 64%|██████▎   | 286M/448M [00:10<00:04, 34.6MB/s]\n",
      " 65%|██████▍   | 290M/448M [00:10<00:04, 37.4MB/s]\n",
      " 66%|██████▌   | 295M/448M [00:10<00:03, 39.7MB/s]\n",
      " 67%|██████▋   | 300M/448M [00:10<00:03, 41.6MB/s]\n",
      " 68%|██████▊   | 305M/448M [00:10<00:03, 38.6MB/s]\n",
      " 69%|██████▉   | 309M/448M [00:11<00:05, 23.3MB/s]\n",
      " 70%|██████▉   | 313M/448M [00:11<00:05, 26.4MB/s]\n",
      " 71%|███████   | 317M/448M [00:11<00:05, 22.2MB/s]\n",
      " 72%|███████▏  | 323M/448M [00:11<00:04, 28.0MB/s]\n",
      " 73%|███████▎  | 328M/448M [00:11<00:03, 32.6MB/s]\n",
      " 74%|███████▍  | 332M/448M [00:12<00:04, 28.8MB/s]\n",
      " 75%|███████▌  | 338M/448M [00:12<00:03, 33.3MB/s]\n",
      " 76%|███████▋  | 342M/448M [00:12<00:03, 29.8MB/s]\n",
      " 77%|███████▋  | 346M/448M [00:12<00:03, 27.7MB/s]\n",
      " 78%|███████▊  | 351M/448M [00:12<00:02, 32.5MB/s]\n",
      " 79%|███████▉  | 355M/448M [00:12<00:02, 32.3MB/s]\n",
      " 80%|████████  | 360M/448M [00:12<00:02, 36.8MB/s]\n",
      " 81%|████████▏ | 364M/448M [00:13<00:02, 36.3MB/s]\n",
      " 82%|████████▏ | 369M/448M [00:13<00:02, 37.0MB/s]\n",
      " 83%|████████▎ | 373M/448M [00:13<00:02, 35.6MB/s]\n",
      " 84%|████████▍ | 377M/448M [00:13<00:02, 33.5MB/s]\n",
      " 85%|████████▌ | 382M/448M [00:13<00:01, 37.8MB/s]\n",
      " 86%|████████▌ | 386M/448M [00:13<00:01, 32.4MB/s]\n",
      " 87%|████████▋ | 391M/448M [00:13<00:01, 35.9MB/s]\n",
      " 88%|████████▊ | 396M/448M [00:13<00:01, 39.6MB/s]\n",
      " 89%|████████▉ | 401M/448M [00:14<00:01, 36.5MB/s]\n",
      " 91%|█████████ | 406M/448M [00:14<00:01, 39.7MB/s]\n",
      " 92%|█████████▏| 411M/448M [00:14<00:00, 41.7MB/s]\n",
      " 93%|█████████▎| 416M/448M [00:14<00:00, 42.6MB/s]\n",
      " 94%|█████████▍| 421M/448M [00:14<00:00, 43.7MB/s]\n",
      " 95%|█████████▍| 426M/448M [00:14<00:00, 44.7MB/s]\n",
      " 96%|█████████▌| 431M/448M [00:14<00:00, 46.3MB/s]\n",
      " 97%|█████████▋| 436M/448M [00:14<00:00, 44.6MB/s]\n",
      " 98%|█████████▊| 440M/448M [00:14<00:00, 41.1MB/s]\n",
      " 99%|█████████▉| 445M/448M [00:15<00:00, 36.0MB/s]\n",
      "100%|██████████| 448M/448M [00:15<00:00, 29.6MB/s]\n",
      "Downloading...\n",
      "From: https://drive.google.com/uc?id=1M0yYP2umxlwaAbk_iq5G_Z5y3qLu9Wet\n",
      "To: c:\\Users\\hoya9\\OneDrive\\Desktop\\torch-gpu\\Workspace\\Transformer-pytorch\\data\\Transformer_small_history.pt\n",
      "\n",
      "  0%|          | 0.00/1.39k [00:00<?, ?B/s]\n",
      "100%|██████████| 1.39k/1.39k [00:00<?, ?B/s]\n"
     ]
    }
   ],
   "source": [
    "BATCH_SIZE = 64 # 실제 논문에선 2.5만 token이 한 batch에 담기게 했다고 함\n",
    "LAMBDA = 0 # l2-Regularization를 위한 hyperparams (저장된 모델)\n",
    "EPOCH = 15 # 저장된 모델\n",
    "max_len = 100 # 길이 제한 (GPU 부담도 많이 감소)\n",
    "\"\"\"\n",
    "decoder에서 모델이 <eos>가 출력되는 것까지는 Loss를 구하고,\n",
    "그뒤 <pad>에 대한 Loss는 무시하기 위한 역활\n",
    "즉, label이 <pad> 일 때는 무시\n",
    "\"\"\"\n",
    "criterion = nn.CrossEntropyLoss(ignore_index=pad_idx)\n",
    "\n",
    "scheduler_name = 'Noam' # Transformer 논문 제 2저자가 제안한 learning rate scheduler\n",
    "scheduler_name = 'Cos'\n",
    "#### Noam ####\n",
    "# warmup_steps = 4000 # 실제 논문에서 제시한 값 (총 10만 step의 4%)\n",
    "warmup_steps = 1000 # 데이터 수 * EPOCH / BS = 총 step 수 인것 고려 (저장된 모델)\n",
    "LR_scale = .5 # Noam scheduler에 peak LR 값 조절을 위해 곱해질 값 (저장된 모델)\n",
    "#### Cos ####\n",
    "LR_init = 5e-4\n",
    "T0 = 1500 # 첫 주기\n",
    "T_mult = 2 # 배 만큼 주기가 길어짐 (1보다 큰 정수여야 함)\n",
    "#############\n",
    "\n",
    "\"\"\"\n",
    "나만의 모델을 만들고 싶으면,\n",
    "new_model_train = True\n",
    "prev_model_use = False\n",
    "\"\"\"\n",
    "new_model_train = False\n",
    "prev_model_use = True\n",
    "\n",
    "!mkdir data\n",
    "\n",
    "if prev_model_use:\n",
    "    !gdown https://drive.google.com/uc?id=1bjbeWgqlVKJ9gzDcL1hfD9cIItQy9_N2 -O data/Transformer_small.pt\n",
    "    !gdown https://drive.google.com/uc?id=1M0yYP2umxlwaAbk_iq5G_Z5y3qLu9Wet -O data/Transformer_small_history.pt\n",
    "\n",
    "    save_model_path = 'data/Transformer_small.pt'\n",
    "    save_history_path = 'data/Transformer_small_history.pt'\n",
    "else:\n",
    "    save_model_path = 'data/Transformer_small2.pt'\n",
    "    save_history_path = 'data/Transformer_small2_history.pt'"
   ]
  },
  {
   "cell_type": "code",
   "execution_count": 7,
   "id": "1803d6a4",
   "metadata": {},
   "outputs": [],
   "source": [
    "\"\"\"\n",
    "논문에 나오는 BASE MODEL\n",
    "train loss를 많이 줄이려면 많은 epoch이 요구됨.\n",
    "test 성능도 높이려면 더 많은 데이터가 필요함\n",
    "\"\"\"\n",
    "# n_layers = 6\n",
    "# d_model = 512\n",
    "# d_ff = 2048\n",
    "# n_heads = 8\n",
    "# drop_p = .1\n",
    "\n",
    "# 좀 사이즈 줄인 모델 (훈련된 input_embedding, fc_out 사용하면 사용 불가)\n",
    "n_layers = 3\n",
    "d_model = 256\n",
    "d_ff = 512\n",
    "n_heads = 8\n",
    "drop_p = .1"
   ]
  },
  {
   "cell_type": "markdown",
   "id": "49bcc2e5",
   "metadata": {},
   "source": [
    "## 토크나이저 & 학습된 모델 써보기"
   ]
  },
  {
   "cell_type": "code",
   "execution_count": 8,
   "id": "c0d2ecbf",
   "metadata": {},
   "outputs": [
    {
     "name": "stdout",
     "output_type": "stream",
     "text": [
      "['▁H', 'i', ',', '▁I', \"'\", 'm', '▁I', 'an', '.', '▁', '...', '▁a', '▁a', '?']\n",
      "['▁a', '/', 'b', '▁1', '+2', '+3', '▁2:', '1', '▁a', '>', 'b']\n",
      "['▁p', 're', 'tra', 'in', 'ed', '▁re', 'st', 'art']\n",
      "['▁ch', 'at', 'G', 'P', 'T']\n",
      "['▁The', '▁', 'ex', 'am', 'ple', '▁is', '▁', 'very', '▁good', '▁in', '▁', 'our', '▁', 'le', 'c', 'ture']\n",
      "['▁한', '글', '은', '▁어떻게', '▁할까', '?']\n",
      "['▁확실히', '▁띄', '어', '쓰기', '▁기준으로', '▁토', '크', '나이', '징', '을', '▁하는', '▁것', '▁같', '진', '▁않다', '.']\n",
      "['▁여러분', '▁차례', '!']\n"
     ]
    }
   ],
   "source": [
    "# tokenizer 써보기 (_로 띄어쓰기를 나타낸다! 즉, _가 없으면 이어진 한 단어 : subword tokenizing)\n",
    "# tokenizer에 대한 참고 자료: https://ratsgo.github.io/nlpbook/docs/preprocess/bpe/\n",
    "print(tokenizer.tokenize(\"Hi, I'm Ian. ... a  a?\"))\n",
    "print(tokenizer.tokenize('a/b 1+2+3 2:1 a>b'))\n",
    "print(tokenizer.tokenize('pretrained restart'))\n",
    "print(tokenizer.tokenize('chatGPT'))\n",
    "print(tokenizer.tokenize('The example is very good in our lecture'))\n",
    "print(tokenizer.tokenize('한글은 어떻게 할까?'))\n",
    "print(tokenizer.tokenize('확실히 띄어쓰기 기준으로 토크나이징을 하는 것 같진 않다.'))\n",
    "print(tokenizer.tokenize('여러분 차례!'))"
   ]
  },
  {
   "cell_type": "code",
   "execution_count": 9,
   "id": "ed4cd73d",
   "metadata": {},
   "outputs": [
    {
     "name": "stdout",
     "output_type": "stream",
     "text": [
      "65001\n",
      "[34359]\n",
      "[65000]\n",
      "[0]\n",
      "[125]\n",
      "[59]\n",
      "['▁문장', '을', '▁넣으면', '▁to', 'k', 'en', 'ize', '해서', '▁숫자', '로', '▁바꾼', '다']\n",
      "[13774, 51, 40068, 5, 1479, 1252, 5016, 969, 6635, 131, 30737, 161]\n",
      "사람\n",
      "으로\n",
      "make\n",
      "</s> <unk> ., the to of? and s a' in 들<pad> <unk> <unk> <unk>\n"
     ]
    }
   ],
   "source": [
    "# print(tokenizer.get_vocab()) # tokenizer에 들어있는 모든 토큰과 토큰의 해당하는 번호를 dict으로 가짐\n",
    "vocab_size = tokenizer.vocab_size\n",
    "print((vocab_size))\n",
    "\n",
    "# add_special_token은 <eos> 자동 붙여주는 것을 방지\n",
    "print(tokenizer.encode('지능', add_special_tokens=False))   # string to index\n",
    "print(tokenizer.encode('<pad>', add_special_tokens=False))  # <pad>는 65000\n",
    "print(tokenizer.encode('</s>', add_special_tokens=False))   # <sos> or <eos>는 0\n",
    "print(tokenizer.encode('He', add_special_tokens=False))\n",
    "print(tokenizer.encode('he', add_special_tokens=False))     # 대소문자 다른 단어로 인식\n",
    "print(tokenizer.tokenize('문장을 넣으면 tokenize해서 숫자로 바꾼다'))\n",
    "print(tokenizer.encode('문장을 넣으면 tokenize해서 숫자로 바꾼다', add_special_tokens=False))\n",
    "print(tokenizer.decode([204]))\n",
    "print(tokenizer.decode([206]))\n",
    "print(tokenizer.decode([210]))\n",
    "print(tokenizer.decode(list(range(15)) + [65000, 65001, 65002, 65003]))"
   ]
  },
  {
   "cell_type": "code",
   "execution_count": 10,
   "id": "ac1244ca",
   "metadata": {},
   "outputs": [
    {
     "name": "stdout",
     "output_type": "stream",
     "text": [
      "입력: 지금 너무 배고프다... 치킨먹고 싶다!\n",
      "번역 결과: I'm so hungry right now... and I want chicken!\n"
     ]
    }
   ],
   "source": [
    "# 사전 학습된 모델로 번역\n",
    "input_text = \"지금 너무 배고프다... 치킨먹고 싶다!\"\n",
    "\n",
    "input_tokens = tokenizer.encode(input_text, return_tensors=\"pt\")    # 모델에서 weight와 행렬곱을 하기 위해 2차원 벡터로 변경경\n",
    "translated_tokens = model.generate(input_tokens, max_new_tokens=max_len)    # max_len까지만 출력\n",
    "translated_text = tokenizer.decode(translated_tokens[0], skip_special_tokens=True)  # <pad> </s> <unk> 같은 특수 토큰은 출력에서 제외외\n",
    "\n",
    "print(\"입력:\", input_text)\n",
    "print(\"번역 결과:\", translated_text)"
   ]
  },
  {
   "cell_type": "code",
   "execution_count": 11,
   "id": "c1513ecf",
   "metadata": {},
   "outputs": [
    {
     "name": "stderr",
     "output_type": "stream",
     "text": [
      "Downloading...\n",
      "From: https://drive.google.com/uc?id=1r4ZnFJOStyBlNRx7snBQ-Iq2GNyJKL6t\n",
      "To: c:\\Users\\hoya9\\OneDrive\\Desktop\\torch-gpu\\Workspace\\Transformer-pytorch\\data\\dialogue.xlsx\n",
      "\n",
      "  0%|          | 0.00/9.57M [00:00<?, ?B/s]\n",
      "  5%|▌         | 524k/9.57M [00:00<00:03, 2.91MB/s]\n",
      " 38%|███▊      | 3.67M/9.57M [00:00<00:00, 15.0MB/s]\n",
      " 88%|████████▊ | 8.39M/9.57M [00:00<00:00, 26.4MB/s]\n",
      "100%|██████████| 9.57M/9.57M [00:00<00:00, 23.0MB/s]\n"
     ]
    }
   ],
   "source": [
    "# data download\n",
    "# https://aihub.or.kr/aihubdata/data/view.do?currMenu=115&topMenu=100&aihubDataSe=realm&dataSetSn=126 데이터 경로\n",
    "!gdown https://drive.google.com/uc?id=1r4ZnFJOStyBlNRx7snBQ-Iq2GNyJKL6t -O data/dialogue.xlsx\n",
    "data = pd.read_excel('data/dialogue.xlsx')"
   ]
  },
  {
   "cell_type": "code",
   "execution_count": 12,
   "id": "ee50e2e0",
   "metadata": {},
   "outputs": [
    {
     "name": "stdout",
     "output_type": "stream",
     "text": [
      "(100000, 7)\n",
      "    대분류 소분류       상황  Set Nr.  발화자                            원문  \\\n",
      "0  비즈니스  회의  의견 교환하기        1  A-1   이번 신제품 출시에 대한 시장의 반응은 어떤가요?   \n",
      "1  비즈니스  회의  의견 교환하기        1  B-1    판매량이 지난번 제품보다 빠르게 늘고 있습니다.   \n",
      "2  비즈니스  회의  의견 교환하기        1  A-2  그렇다면 공장에 연락해서 주문량을 더 늘려야겠네요.   \n",
      "\n",
      "                                                 번역문  \n",
      "0  How is the market's reaction to the newly rele...  \n",
      "1  The sales increase is faster than the previous...  \n",
      "2  Then, we'll have to call the manufacturer and ...  \n"
     ]
    }
   ],
   "source": [
    "print(data.shape)\n",
    "print(data.head(3))"
   ]
  },
  {
   "cell_type": "code",
   "execution_count": 13,
   "id": "94007baa",
   "metadata": {},
   "outputs": [
    {
     "name": "stdout",
     "output_type": "stream",
     "text": [
      "97000\n",
      "2000\n",
      "1000\n"
     ]
    }
   ],
   "source": [
    "class CustomDataset(torch.utils.data.Dataset):\n",
    "    def __init__(self, data):\n",
    "        self.data = data\n",
    "\n",
    "    def __len__(self):\n",
    "        return self.data.shape[0]\n",
    "\n",
    "    def __getitem__(self, idx):\n",
    "        return self.data.loc[idx, '원문'], self.data.loc[idx, '번역문']\n",
    "\n",
    "custom_DS = CustomDataset(data)\n",
    "\n",
    "train_DS, val_DS, test_DS = torch.utils.data.random_split(custom_DS, [97000, 2000, 1000])\n",
    "# 논문에서는 450만개 영, 독 문장 pair 사용\n",
    "\n",
    "train_DL = torch.utils.data.DataLoader(train_DS, batch_size=BATCH_SIZE, shuffle=True)\n",
    "val_DL = torch.utils.data.DataLoader(val_DS, batch_size=BATCH_SIZE, shuffle=True)\n",
    "test_DL = torch.utils.data.DataLoader(test_DS, batch_size=BATCH_SIZE, shuffle=True)\n",
    "\n",
    "print(len(train_DS))\n",
    "print(len(val_DS))\n",
    "print(len(test_DS))"
   ]
  },
  {
   "cell_type": "code",
   "execution_count": 14,
   "id": "b55c07b7",
   "metadata": {},
   "outputs": [
    {
     "name": "stdout",
     "output_type": "stream",
     "text": [
      "인덱스: 19993\n",
      "원문: 나도 그랬으면 좋겠지만 겨울까지 휴가 못 가.\n",
      "영문: I wish I could, but I can't go on vacation until winter.\n"
     ]
    }
   ],
   "source": [
    "# test_DS 확인\n",
    "i = 5\n",
    "src_text, trg_text = test_DS[i]\n",
    "\n",
    "print(f\"인덱스: {test_DS.indices[i]}\")   # 원본 데이터에서의 인덱스 추척\n",
    "print(f\"원문: {src_text}\")\n",
    "print(f\"영문: {trg_text}\")"
   ]
  },
  {
   "cell_type": "code",
   "execution_count": 15,
   "id": "1a2ca7ad",
   "metadata": {},
   "outputs": [
    {
     "name": "stdout",
     "output_type": "stream",
     "text": [
      "('아메리카노 1잔과 샌드위치 1개를 내일 아침 제 방으로 가져다주세요.', '아닙니다, 바로 다음에 나올 음식을 손님께 드리도록 할게요.', '2인분 추가 주문하면 음식이 나오는 데 얼마나 걸릴까요?', '일러스트 프로그램은 추가로 설치를 하셔야 하는데, 30분 정도 시간이 걸릴 것입니다.', '여기 이 부분이요, 아까 설명해주신 거랑 좀 다른 것 같은데요?', '그 제품은 품절되어 현재 남은 물량이 없습니다.', '새 상품과 기존에 받으셨던 상품의 맞교환으로 진행해드리겠습니다.', '그러게, 심지어 더치페이를 얼마를 해야 하는지 계산도 해줘.', '판매하는 핸드폰 케이스 종류를 늘려야 할인지도 모르겠어요.', '응, 식구들도 일찍 집에서 나가서 나를 깨워줄 사람이 없었어.', '하지만 꼭 인기 있는 주인공만 출연하는 것 같아.', '혹시 기내에서 카드 결제도 가능한가요?', '이 수박은 먹을 수도 없으니 환불 부탁드립니다.', '생각보다 음료가 너무 써서 그런데 시럽을 좀 추가할 수 있을까요?', '새로 계약하기로 했던 거 어떻게 되어가고 있어요?', '신경이 많이 쓰여서 웃을 때도 크게 안 웃거든요.', '마음에 드셨다니 다행이네요, 20분 정도 걸리는데 괜찮으세요?', '지금 퇴근하는 시간이라 차가 많이 막히지 않을까?', '그러면 저희 방으로 치킨을 시켜주실 수 있나요?', '한 팩에 물티슈가 100매 정도 들어 있습니다.', '체크인 시간은 11시까지인데, 혹시 언제 오세요?', '11일은 저희 쪽에서 힘들 것 같으니, 12일로 할 수 있을까요?', '장대리, 이번 우수실적 명단에 포함된 것 축하해.', '이 절에 가려면 버스를 타고 한 시간을 가야 해.', '다른 지점보다 훨씬 저렴하네요. 오늘 아무 때나 방문해도 될까요?', '몇 년간 꾸준히 SNS 활동을 했으며 이전에 상품 리뷰를 작성한 경험이 있는 사람들을 우선순위로 뽑았습니다.', '그러게, 아까 길 물어봤을 때 거기서 5분만 걸어가면 보인다고 했는데 말이지.', '요즘은 로봇 청소기보다 무선 청소기가 인기가 많습니다.', '3박 4일인데, 지금 남은 걸로 되지 않겠어?', '하지만 공이 팔에 닿을 때 너무 아파서 겁을 내게 돼.', '안녕하세요, 제가 연락드렸던 한국철강의 김민수 과장입니다.', '고속도로로 가면 요금이 더 추가되는데 괜찮으세요?', '일단 우리가 만날 회사 팀장님과 이사님의 정보가 필요해.', '제가 계속 일을 해야 해서요, 담당자분은 지금 바로 오실 수 있나요?', '앱을 확인하시면 제품 주문 상태가 보이실 겁니다.', '여기로 돌아올 수 없다니 대체 그게 무슨 말이야?', '본사 홍보팀과의 미팅건은 어떻게 진행해야 할까요?', '안타깝군요. 그냥 다른 팀 보러 가시는 건 어떠세요?', '제가 필요한 건 헤어 제품들인데, 헤어 제품들 관련 이벤트도 있다고 들었어요.', '면세 제한이 너무 많아서 힘드네요.', '9월부터는 1년 정도 광고가 가능하니 주문서 작성 바랍니다.', '홈페이지에 들어가셔서 메시지 작성하는 칸에 내용을 작성해 주세요.', '네, 하지만 그렇다면 사이즈를 저희 가게에서 측정해드릴 수 있습니다.', '뭐 음식도 아니고 그냥 껌일 뿐인데 왜 뱉어야 하는데?', '청소할 수 있는 봉투를 하나만 주시면 저희가 정리를 할 수 있을 것 같아요.', '네, 발목까지만 딱 맞는 상품이면 좋겠어요.', '액자를 구매하려고 하는데 세트 안에 벽에 걸 수 있는 여분의 못이 들어있나요?', '곧 저녁 시간이니까 밥이라도 먹으면서 얘기 나누자.', '어떤 부품인지 사진 찍어 보내주시면 확인 후 처리해드리겠습니다.', '그냥 사줘도 괜찮은데, 정말 네가 직접 만든 거야?', '샤부샤부 고기에 포함된 금액이 아니고, 무제한으로 먹을 수 있는 채소인 줄 알았는데요.', '중고 책이라면 2층으로 올라가셔야 하는데, 찾는 제품이 있나요?', '이쯤에 있다고 했는데 왜 버스정류장 표시가 안 보이지?', '클림트였군요, 정말 그림이 화려하고 아름답습니다.', '저기요, 주문한 음식이 아직도 나오지 않았어요.', '꼭 밥을 먹고 먹어야 하나요, 바쁘면 못 먹을 때도 있어서요.', '항상 그랬던 것처럼 넉넉하게 하는 게 좋지 않겠어?', '아니야, 너무 맛있는데 점심에 먹은 소화가 잘 안 됐나 봐.', '제가 젓가락을 잘 못 써서요, 포크만 있다면 괜찮습니다.', '네, 양식에 맞춰서 모든 비용을 기록하였습니다.', '우리 근처 어디 가서 커피 좀 마시자, 목마르다.', '아쉽네요, 그럼 피자 대신 완자로 변경할 수 있나요?', '아이 성별은 어떻게 되고, 들어가는 모습은 보셨나요?', '고객사의 요청이 있어서 이번에 해상 배송 말고 항공 배송을 해야 할 거 같아요.')\n",
      "('Please bring me a cup of Americano and a sandwich to my room tomorrow morning.', 'No, I will get you the dish that comes out next.', 'How long will it take to get the food served if I order an additional two servings?', 'For the illustration program, additional installation is required, which will take about 30 minutes.', 'This part here, it looks like it is a bit different from what you explained to me.', 'The product is out of stock fully at the present.', 'I will exchange it for the new product with the ones you received.', 'Yeah, it even calculates how much we should go dutch.', 'We might have to increase the variety of cell phone cases we sell.', 'Yes, and my family members all left the house early so there was nobody to wake me up.', 'But I think only the most popular characters appear.', 'Can I pay with a credit card onboard?', \"I can't even eat this watermelon so please refund it.\", \"The drink is more bitter than I thought it'd be, good I get a syrup shot?\", 'How is the new contract we agreed to make going?', 'It really bothers me, so I don’t laugh with my mouth open wide when I laugh.', \"I'm glad you enjoyed it, it'll take around 20 minutes if that’s ok?\", \"It's rush hour, so wouldn't there be bad traffic?\", 'Then, can you order some chicken to our room?', 'There are about 100 sheets in one pack of wet tissues.', 'The check-in time is 11 am, so when will you be arriving?', 'I think the 11th would be hard for us, so can we do it on the 12th?', 'Mr. Jang, Congratulations on being included on the excellent performance list.', \"To get into this temple, you'll need to take a bus for an hour.\", \"It's much cheaper than other stores. May I visit anytime today?\", \"They've been continuously active on social networking sites for years, and we've chosen people who have previously written product reviews as a priority.\", \"The last time we asked, they said that we'll find the restaurant if we walk for 5 minutes.\", 'Nowadays, wireless vacuum cleaners are more popular than robotic vacuum cleaners.', \"It's only for 3 nights and 4 days, so wouldn't what we have now be enough?\", \"But it hurts too much when the ball hits my arm, so I'm scared.\", \"Hello, I'm Min-Soo Kim, the manger of Korean Steel and I contacted earlier.\", \"It'll cost extra on the highway, are you alright with that?\", 'First, I need information on the Head of Department and the Director of the company we are meeting.', 'I have to continue working, can the person come right away?', \"If you check the app, you'll see the status of your product order.\", 'What on earth do you mean by that?', 'How should we conduct the meeting with the HQ promotion team?', \"That's too bad. Why don't you just go see another team?\", \"I'm looking for hair products and I heard there is a hair product event, as well.\", \"It's tough because there are too many duty-free restrictions.\", '1 year of advertising would be possible from September so please write an order request form.', 'Go to the web page and write the contents in the box for the message.', 'Yes, but if so, we can measure your size in our store.', \"It's not even food and just a gum so why do I need to spit it out?\", 'I think we can tidy up things a little bit if you can just give us one cleaning bag.', 'Okay, I hope the pants come right to my ankles.', 'I would like to buy a picture frame, and are there extra nails in the set to hang it on the wall?', \"It's soon to be dinner, so let's grab some food and talk it over.\", 'Please send us a picture of the part and I will take care of it after checking.', 'You could have just bought me one, Do you really make this?', 'I thought it was not included in the Shabu-shabu meat but could have unlimited vegetables.', \"If you're looking for used books, you have to go up to the 2nd floor, was there a book you were looking for?\", \"I was told that it's should be here somewhere, but how come I can't see the bus stop sign?\", \"It's Klimt, the painting is really gorgeous and beautiful.\", \"Excuse me, the food we ordered still hasn't come out.\", \"Do I have to take it after a meal? Because I don't get to eat when I am busy.\", \"Wouldn't it be good to leave enough days like always?\", \"No, it's really good, but I think I haven't been able to digest my lunch well.\", \"I am not good at using chopsticks, it's fine as long as there are forks.\", 'Yes, I wrote down all the expenses according to the form.', \"Let's go somewhere nearby to get some coffee since I am thirsty.\", 'Too bad, then can I change to meatball instead of pizza?', 'Whats your childs gender, and when did you see him go in?', 'There was a request from the client company so I think we will have to send it by plane instead of by ship.')\n",
      "64\n",
      "64\n",
      "tensor([[11943,  1088,   132,  3699,   162, 35280,   132, 14291,  4050,  3547,\n",
      "           303, 34412, 17832,  6339,     2, 65000, 65000, 65000, 65000, 65000,\n",
      "         65000, 65000, 65000, 65000, 65000, 65000],\n",
      "        [ 2069,     3,   642,  7076,  9198, 13496,  2479, 19676,  7335,   581,\n",
      "         14159,     2, 65000, 65000, 65000, 65000, 65000, 65000, 65000, 65000,\n",
      "         65000, 65000, 65000, 65000, 65000, 65000]])\n",
      "tensor([[    0,  1068,  1516, 17871,   575,  9630,    75,    11,  1487,  3185,\n",
      "             6,     9, 23346,   965,     8,    11,   979,  1732,  2196, 17110,\n",
      "             5,    84,     9,  2839,  6081,     5,   107,   992, 12163,  1495,\n",
      "           992,   649,   130,     2,     0, 65000, 65000, 65000, 65000, 65000,\n",
      "         65000, 65000, 65000, 65000, 65000, 65000, 65000, 65000, 65000, 65000,\n",
      "         65000, 65000, 65000, 65000, 65000, 65000, 65000, 65000, 65000, 65000,\n",
      "         65000, 65000, 65000, 65000, 65000, 65000, 65000, 65000],\n",
      "        [    0,   254,     3,    16,    61,   167,    18,     4,  4225,  3965,\n",
      "            15, 16373,   833,     9,  4503,  3898, 30959,     2,     0, 65000,\n",
      "         65000, 65000, 65000, 65000, 65000, 65000, 65000, 65000, 65000, 65000,\n",
      "         65000, 65000, 65000, 65000, 65000, 65000, 65000, 65000, 65000, 65000,\n",
      "         65000, 65000, 65000, 65000, 65000, 65000, 65000, 65000, 65000, 65000,\n",
      "         65000, 65000, 65000, 65000, 65000, 65000, 65000, 65000, 65000, 65000,\n",
      "         65000, 65000, 65000, 65000, 65000, 65000, 65000, 65000]])\n",
      "torch.Size([64, 26])\n",
      "torch.Size([64, 68])\n",
      "tensor([65000, 65000, 65000, 65000, 65000, 65000, 65000, 65000, 65000, 65000,\n",
      "        65000, 65000, 65000, 65000, 65000, 65000, 65000, 65000, 65000, 65000,\n",
      "        65000, 65000, 65000, 65000, 65000,     0, 65000, 65000, 65000, 65000,\n",
      "        65000, 65000, 65000, 65000, 65000, 65000, 65000, 65000, 65000, 65000,\n",
      "        65000, 65000, 65000, 65000, 65000, 65000, 65000, 65000, 65000, 65000,\n",
      "        65000, 65000, 65000, 65000, 65000, 65000, 65000, 65000, 65000, 65000,\n",
      "        65000, 65000, 65000, 65000])\n",
      "</s> They've been continuously active on social networking sites for years, and we've chosen people who have previously written product reviews as a priority.</s>\n",
      "tensor([    0,    57,  5502, 10510,   897,    49,    20,     9,  4503,     6,\n",
      "         7226,  9438,  1731, 40773,   350,     9,  2253,     4,  1835, 27342,\n",
      "         3166,     2,     0, 65000, 65000, 65000, 65000, 65000, 65000, 65000,\n",
      "        65000, 65000, 65000, 65000, 65000, 65000, 65000, 65000, 65000, 65000,\n",
      "        65000, 65000, 65000, 65000, 65000, 65000, 65000, 65000, 65000, 65000,\n",
      "        65000, 65000, 65000, 65000, 65000, 65000, 65000, 65000, 65000, 65000,\n",
      "        65000, 65000, 65000, 65000, 65000, 65000, 65000])\n",
      "tensor([   57,  5502, 10510,   897,    49,    20,     9,  4503,     6,  7226,\n",
      "         9438,  1731, 40773,   350,     9,  2253,     4,  1835, 27342,  3166,\n",
      "            2,     0, 65000, 65000, 65000, 65000, 65000, 65000, 65000, 65000,\n",
      "        65000, 65000, 65000, 65000, 65000, 65000, 65000, 65000, 65000, 65000,\n",
      "        65000, 65000, 65000, 65000, 65000, 65000, 65000, 65000, 65000, 65000,\n",
      "        65000, 65000, 65000, 65000, 65000, 65000, 65000, 65000, 65000, 65000,\n",
      "        65000, 65000, 65000, 65000, 65000, 65000, 65000])\n"
     ]
    }
   ],
   "source": [
    "# train_DL TEST\n",
    "for src_texts, trg_texts in train_DL:\n",
    "    print(src_texts)\n",
    "    print(trg_texts)\n",
    "    print(len(src_texts))\n",
    "    print(len(trg_texts))\n",
    "\n",
    "\n",
    "    # 여러 문장에 대해서는 tokenizer.encode() 가 아닌 그냥 tokenizer()사용\n",
    "    # add_special_tokens = True (default)면 <eos>를 붙임\n",
    "    # truncation = True: max_len 보다 길면 끊음\n",
    "    src = tokenizer(src_texts, padding=True, truncation=True, max_length=max_len, return_tensors='pt', add_special_tokens=False).input_ids\n",
    "    # <sos>가 tokenizer에 따로 없어서 </s> 를 <sos> 로서 사용\n",
    "    trg_texts = ['</s> '+ s for s in trg_texts]\n",
    "    trg = tokenizer(trg_texts, padding=True, truncation=True, max_length=max_len, return_tensors='pt', add_special_tokens=True).input_ids\n",
    "\n",
    "    print(src[:2])\n",
    "    print(trg[:2])\n",
    "    print(src.shape)\n",
    "    print(trg.shape)\n",
    "    print(trg[:,-1])    # 가장 마지막 단어를 보니 어떤 문장은 <eos> 로 끝이 났고 나머지는 <pad> 로 끝이 났다는 걸 볼 수 있음\n",
    "    print(tokenizer.decode(trg[trg[:,-1]==eos_idx,:][0]))   # 가장 긴 문장들 중 첫 번째 문장 관찰\n",
    "    print(trg[5,:-1])  # 디코더 입력\n",
    "    print(trg[5,1:])   # 디코더 출력으로 나와야 할 label\n",
    "    # 어차피 출력으로 pad token이 기다리고 있으니 loss에서 ignore로 인해 다 무시되므로 eos가 들어가도 상관없음\n",
    "\n",
    "    break"
   ]
  },
  {
   "cell_type": "code",
   "execution_count": 16,
   "id": "d6bd8f8e",
   "metadata": {},
   "outputs": [
    {
     "name": "stdout",
     "output_type": "stream",
     "text": [
      "입력: 나도 그랬으면 좋겠지만 겨울까지 휴가 못 가.\n",
      "정답: I wish I could, but I can't go on vacation until winter.\n",
      "AI의 번역: <pad> I wish I could, but I can't go on vacation until winter.</s>\n"
     ]
    }
   ],
   "source": [
    "# 내가 쓸 train data 에 대해서 MarianMTmodel이 잘 번역하는지 확인\n",
    "src_text, trg_text = test_DS[5]\n",
    "print(f\"입력: {src_text}\")\n",
    "print(f\"정답: {trg_text}\")\n",
    "\n",
    "src = tokenizer.encode(src_text, return_tensors='pt', add_special_tokens=True)\n",
    "# add_special_tokens = False 해보면 뭔가 이상하게 번역함 (학습 때 source에도 <eos>를 넣었단 증거?)\n",
    "translated_tokens = model.generate(src, max_new_tokens=max_len)\n",
    "translated_text = tokenizer.decode(translated_tokens[0], skip_special_tokens=False)\n",
    "\n",
    "print(f\"AI의 번역: {translated_text}\")  # 디코더 첫 입력으로 <pad> 토큰을 넣었음. (<pad>를 <sos>로 사용)\n"
   ]
  },
  {
   "cell_type": "markdown",
   "id": "1f7f91b8",
   "metadata": {},
   "source": [
    "## 모델 구현"
   ]
  },
  {
   "cell_type": "markdown",
   "id": "35f8bf59",
   "metadata": {},
   "source": [
    "### Multi-Head Attention"
   ]
  },
  {
   "cell_type": "code",
   "execution_count": 17,
   "id": "5c42ac51",
   "metadata": {},
   "outputs": [],
   "source": [
    "class MHA(nn.Module):\n",
    "    def __init__(self, d_model, n_heads):\n",
    "        super().__init__()\n",
    "\n",
    "        self.n_heads = n_heads\n",
    "\n",
    "        self.fc_q = nn.Linear(d_model, d_model)\n",
    "        self.fc_k = nn.Linear(d_model, d_model)\n",
    "        self.fc_v = nn.Linear(d_model, d_model)\n",
    "        self.fc_o = nn.Linear(d_model, d_model)\n",
    "\n",
    "        self.scale = torch.sqrt(torch.tensor(d_model / n_heads))\n",
    "\n",
    "    def forward(self, Q, K, V, mask=None):\n",
    "\n",
    "        Q = self.fc_q(Q) # 개단차\n",
    "        K = self.fc_k(K)\n",
    "        V = self.fc_v(V)\n",
    "\n",
    "        Q = rearrange(Q, '개 단 (헤 차) -> 개 헤 단 차', 헤=self.n_heads) # 개단차 -> 개헤단차\n",
    "        K = rearrange(K, '개 단 (헤 차) -> 개 헤 단 차', 헤=self.n_heads)\n",
    "        V = rearrange(V, '개 단 (헤 차) -> 개 헤 단 차', 헤=self.n_heads)\n",
    "\n",
    "        attention_score = Q @ K.transpose(-2,-1)/self.scale # 개헤단단\n",
    "\n",
    "        if mask is not None:\n",
    "            attention_score[mask] = -1e10\n",
    "\n",
    "        attention_weights = torch.softmax(attention_score, dim=-1) # 개헤단단\n",
    "\n",
    "        attention = attention_weights @ V # 개헤단차\n",
    "\n",
    "        X = rearrange(attention, '개 헤 단 차 -> 개 단 (헤 차)') # 개헤단차 -> 개단차\n",
    "        x = self.fc_o(X) # 개단차\n",
    "\n",
    "        return x, attention_weights\n",
    "\n",
    "class FeedForward(nn.Module):\n",
    "    def __init__(self, d_model, d_ff, drop_p):\n",
    "        super().__init__()\n",
    "\n",
    "        self.linear = nn.Sequential(nn.Linear(d_model, d_ff),\n",
    "                                    nn.ReLU(),\n",
    "                                    nn.Dropout(drop_p), # 논문에는 명시하진 않았지만, overfitting에 취약한 부분이기 때문에 추가\n",
    "                                    nn.Linear(d_ff, d_model))\n",
    "\n",
    "    def forward(self, x):\n",
    "        x = self.linear(x)\n",
    "        return x"
   ]
  },
  {
   "cell_type": "code",
   "execution_count": 18,
   "id": "576240d6",
   "metadata": {},
   "outputs": [
    {
     "name": "stdout",
     "output_type": "stream",
     "text": [
      "tensor([[[ 0.2595, -0.4927, -0.4737, -0.2074, -1.9427, -1.7322],\n",
      "         [-0.5939, -1.1785, -0.7656, -1.9260, -0.8876, -0.6519],\n",
      "         [ 0.1413, -1.7858,  0.2259, -0.0683, -0.4737, -1.9399],\n",
      "         [-1.4287, -0.6150,  0.4548,  0.8434,  1.2168, -0.7239]]])\n",
      "tensor([[[[ 0.2595, -0.4927],\n",
      "          [-0.5939, -1.1785],\n",
      "          [ 0.1413, -1.7858],\n",
      "          [-1.4287, -0.6150]],\n",
      "\n",
      "         [[-0.4737, -0.2074],\n",
      "          [-0.7656, -1.9260],\n",
      "          [ 0.2259, -0.0683],\n",
      "          [ 0.4548,  0.8434]],\n",
      "\n",
      "         [[-1.9427, -1.7322],\n",
      "          [-0.8876, -0.6519],\n",
      "          [-0.4737, -1.9399],\n",
      "          [ 1.2168, -0.7239]]]])\n",
      "torch.Size([1, 3, 4, 2])\n",
      "tensor([[[ 0.2595, -0.4927, -0.4737, -0.2074, -1.9427, -1.7322],\n",
      "         [-0.5939, -1.1785, -0.7656, -1.9260, -0.8876, -0.6519],\n",
      "         [ 0.1413, -1.7858,  0.2259, -0.0683, -0.4737, -1.9399],\n",
      "         [-1.4287, -0.6150,  0.4548,  0.8434,  1.2168, -0.7239]]])\n",
      "torch.Size([1, 4, 6])\n"
     ]
    }
   ],
   "source": [
    "Q = torch.randn(1, 4, 6)    # 개단차\n",
    "print(Q)\n",
    "\n",
    "Q = rearrange(Q, '개 단 (헤 차) -> 개 헤 단 차', 헤=3)  # 개단차 -> 개헤단차\n",
    "# 주의! (차 헤)로 해보면 나뉜 데이터가 또 다름. 차원의 수 6을 헤드의 수 3으로 쪼개는 것이므로 (헤 차) 가 맞다.\n",
    "print(Q)\n",
    "print(Q.shape)\n",
    "\n",
    "x = rearrange(Q, '개 헤 단 차 -> 개 단 (헤 차)') # 개헤단차 -> 개단차\n",
    "print(x)\n",
    "print(x.shape)"
   ]
  },
  {
   "cell_type": "code",
   "execution_count": 19,
   "id": "e8b01e89",
   "metadata": {},
   "outputs": [
    {
     "data": {
      "text/plain": [
       "[<matplotlib.lines.Line2D at 0x27cbb9ee800>]"
      ]
     },
     "execution_count": 19,
     "metadata": {},
     "output_type": "execute_result"
    },
    {
     "data": {
      "image/png": "[encoded data removed]",
      "text/plain": [
       "<Figure size 640x480 with 1 Axes>"
      ]
     },
     "metadata": {},
     "output_type": "display_data"
    }
   ],
   "source": [
    "# scaling을 sqrt(dk)로 하는 이유 : 안나누면 softmax로 들어갈때 분산이 커져 grad가 작아짐\n",
    "n = torch.arange(1, 513)\n",
    "N = 1000\n",
    "result = []\n",
    "for ni in n:\n",
    "    inner_prod = torch.zeros(N)\n",
    "    for i in range(N):\n",
    "        inner_prod[i] = torch.randn(ni,1).T@torch.randn(ni,1)   # inner product\n",
    "    result += [torch.var(inner_prod)]\n",
    "\n",
    "plt.plot(n,result)\n",
    "plt.plot(n,n,'r') # 즉, dk가 커지면 variance도 같이 커지니깐 std(sqrt(dk))로 나눠서 dk가 함수가 아니도록 하는 것! (분산은 데이터 개수에 따라 값이 커지기도 하기 때문에)"
   ]
  },
  {
   "cell_type": "markdown",
   "id": "f44262bf",
   "metadata": {},
   "source": [
    "### Encoder"
   ]
  },
  {
   "cell_type": "code",
   "execution_count": 20,
   "id": "9baf922a",
   "metadata": {},
   "outputs": [],
   "source": [
    "class EncoderLayer(nn.Module):\n",
    "    def __init__(self, d_model, d_ff, n_heads, drop_p):\n",
    "        super().__init__()\n",
    "\n",
    "        self.self_atten = MHA(d_model, n_heads)\n",
    "        self.self_atten_LN = nn.LayerNorm(d_model)\n",
    "\n",
    "        self.FF = FeedForward(d_model, d_ff, drop_p)\n",
    "        self.FF_LN = nn.LayerNorm(d_model)\n",
    "\n",
    "        self.dropout = nn.Dropout(drop_p)\n",
    "\n",
    "    def forward(self, x, enc_mask):\n",
    "\n",
    "        residual, atten_enc = self.self_atten(x, x, x, enc_mask) # pad masking\n",
    "        residual = self.dropout(residual)\n",
    "        x = self.self_atten_LN(x + residual)\n",
    "\n",
    "        residual = self.FF(x)\n",
    "        residual = self.dropout(residual)\n",
    "        x = self.FF_LN(x + residual)\n",
    "\n",
    "        return x, atten_enc\n",
    "\n",
    "class Encoder(nn.Module):\n",
    "    def __init__(self, input_embedding, max_len, n_layers, d_model, d_ff, n_heads, drop_p):\n",
    "        super().__init__()\n",
    "        \"\"\"\n",
    "        math pakage를 통한 scaler 값인 scale를 만들지 않고, 다음과 같이 구현해야 이유:\n",
    "        1. torch.tensor()로 type 일치와 실제론 scaler지만 pytorch에서는 0차원 텐서로서 미분가능\n",
    "        2. torch.sqrt()로 GPU연산가능\n",
    "        \"\"\"\n",
    "        self.scale = torch.sqrt(torch.tensor(d_model))\n",
    "        self.input_embedding = input_embedding\n",
    "        self.pos_embedding = nn.Embedding(max_len, d_model)\n",
    "\n",
    "        self.dropout = nn.Dropout(drop_p)\n",
    "\n",
    "        self.layers = nn.ModuleList([EncoderLayer(d_model, d_ff, n_heads, drop_p) for _ in range(n_layers)])\n",
    "\n",
    "    def forward(self, src, mask, atten_map_save=False): # src.shape = 개단, mask.shape = 개헤단단\n",
    "\n",
    "        pos = torch.arange(src.shape[1]).expand_as(src).to(DEVICE)\n",
    "\n",
    "        x = self.scale*self.input_embedding(src) + self.pos_embedding(pos)  # 개단차\n",
    "        # self.scale를 곱해주면 position 보다 token 정보를 더 보게 된다. (gradient에 self.scale만큼이 더 곱해짐)\n",
    "        x = self.dropout(x)\n",
    "\n",
    "        atten_encs = torch.tensor([]).to(DEVICE)\n",
    "        for layer in self.layers:\n",
    "            x, atten_enc = layer(x, mask)\n",
    "            if atten_map_save is True:\n",
    "                atten_encs = torch.cat([atten_encs, atten_enc[0].unsqueeze(0)], dim=0)  # 층헤단단\n",
    "\n",
    "        return x, atten_encs\n"
   ]
  },
  {
   "cell_type": "markdown",
   "id": "37377d9e",
   "metadata": {},
   "source": [
    "#### expand_as, nn.embedding 실험"
   ]
  },
  {
   "cell_type": "code",
   "execution_count": 21,
   "id": "ea7b5405",
   "metadata": {},
   "outputs": [
    {
     "name": "stdout",
     "output_type": "stream",
     "text": [
      "tensor([[17852, 30557, 14802,   783,  2753],\n",
      "        [13780,  2814, 59476, 54905, 10648],\n",
      "        [21454, 17110, 22480,  4393, 46681]])\n",
      "tensor([[0, 1, 2, 3, 4],\n",
      "        [0, 1, 2, 3, 4],\n",
      "        [0, 1, 2, 3, 4]], device='cuda:0')\n"
     ]
    }
   ],
   "source": [
    "src = torch.randint(0,65000, (3,5)) # 개단\n",
    "pos = torch.arange(5).expand_as(src).to(DEVICE)\n",
    "print(src)\n",
    "print(pos)"
   ]
  },
  {
   "cell_type": "code",
   "execution_count": 22,
   "id": "aa98e8fc",
   "metadata": {},
   "outputs": [
    {
     "name": "stdout",
     "output_type": "stream",
     "text": [
      "torch.Size([10, 5])\n",
      "Parameter containing:\n",
      "tensor([[ 0.3053,  0.7740, -0.1448, -0.5994,  0.4004],\n",
      "        [-0.5822, -0.3072, -0.9433, -2.7531, -0.0236],\n",
      "        [-1.6781, -0.4184,  0.3999,  1.5914,  0.1325],\n",
      "        [ 0.8183, -0.7544, -0.8827, -1.1778, -1.6542],\n",
      "        [-1.3207, -0.6793,  0.1129, -1.0439, -0.4201],\n",
      "        [ 0.0988,  0.6815,  1.1168, -0.6703, -0.7377],\n",
      "        [-0.2685, -0.1505, -0.4780,  1.2038,  3.6673],\n",
      "        [-0.0108,  0.2441,  2.3384, -0.9031, -0.9961],\n",
      "        [-2.6855, -0.0280, -2.0526,  2.0998,  1.0727],\n",
      "        [ 0.5224,  1.2706, -0.2532,  0.6647, -0.9538]], requires_grad=True)\n",
      "tensor([-1.6781, -0.4184,  0.3999,  1.5914,  0.1325],\n",
      "       grad_fn=<EmbeddingBackward0>)\n",
      "tensor([[[-0.2685, -0.1505, -0.4780,  1.2038,  3.6673],\n",
      "         [-0.5822, -0.3072, -0.9433, -2.7531, -0.0236],\n",
      "         [-1.6781, -0.4184,  0.3999,  1.5914,  0.1325]],\n",
      "\n",
      "        [[-1.6781, -0.4184,  0.3999,  1.5914,  0.1325],\n",
      "         [-0.5822, -0.3072, -0.9433, -2.7531, -0.0236],\n",
      "         [-0.0108,  0.2441,  2.3384, -0.9031, -0.9961]]],\n",
      "       grad_fn=<EmbeddingBackward0>)\n",
      "torch.Size([2, 3, 5])\n"
     ]
    }
   ],
   "source": [
    "# nn.Embedding 실험\n",
    "emb = nn.Embedding(10, 5) # one-hot encoding 된 벡터가 통과된다는 것이 약속된 상태의 FC layer\n",
    "print(emb.weight.shape) # weight 개수는 nn.Linear(10, 5)와 동일! 단지 동작 방식이 다름\n",
    "print(emb.weight)\n",
    "print(emb(torch.tensor(2)))\n",
    "\n",
    "print(emb(torch.tensor([[6,1,2],[2,1,7]]))) # 2개 문장, 3개 단어\n",
    "print(emb(torch.tensor([[6,1,2],[2,1,7]])).shape)"
   ]
  },
  {
   "cell_type": "code",
   "execution_count": 23,
   "id": "94ffe156",
   "metadata": {},
   "outputs": [
    {
     "name": "stdout",
     "output_type": "stream",
     "text": [
      "기존 atten_encs 크기: torch.Size([2, 8, 10, 10])\n",
      "새로운 atten_enc[0] 크기: torch.Size([8, 10, 10])\n",
      "unsqueeze 후 크기: torch.Size([1, 8, 10, 10])\n",
      "최종 결과 크기: torch.Size([3, 8, 10, 10])\n"
     ]
    }
   ],
   "source": [
    "atten_encs = torch.randn(2, 8, 10, 10)  # 개헤단단\n",
    "atten_enc = torch.randn(1, 8, 10, 10)   # 개헤단단\n",
    "\n",
    "print(\"기존 atten_encs 크기:\", atten_encs.shape)\n",
    "print(\"새로운 atten_enc[0] 크기:\", atten_enc[0].shape)\n",
    "\n",
    "# unsqueeze(0)로 차원 추가\n",
    "new_attention = atten_enc[0].unsqueeze(0)\n",
    "print(\"unsqueeze 후 크기:\", new_attention.shape)\n",
    "\n",
    "# torch.cat으로 연결\n",
    "result = torch.cat([atten_encs, new_attention], dim=0)\n",
    "print(\"최종 결과 크기:\", result.shape)"
   ]
  },
  {
   "cell_type": "markdown",
   "id": "65ede3ac",
   "metadata": {},
   "source": [
    "### Decoder, 모델 전체"
   ]
  },
  {
   "cell_type": "code",
   "execution_count": 24,
   "id": "0c14e086",
   "metadata": {},
   "outputs": [],
   "source": [
    "class DecoderLayer(nn.Module):\n",
    "    def __init__(self, d_model, d_ff, n_heads, drop_p):\n",
    "        super().__init__()\n",
    "\n",
    "        self.self_atten = MHA(d_model, n_heads)\n",
    "        self.self_atten_LN = nn.LayerNorm(d_model)\n",
    "\n",
    "        self.enc_dec_atten = MHA(d_model, n_heads)\n",
    "        self.enc_dec_atten_LN = nn.LayerNorm(d_model)\n",
    "\n",
    "        self.ff = FeedForward(d_model, d_ff, drop_p)\n",
    "        self.ff_LN = nn.LayerNorm(d_model)\n",
    "\n",
    "        self.dropout = nn.Dropout(drop_p)\n",
    "\n",
    "    def forward(self, x, enc_out, dec_mask, enc_dec_mask):\n",
    "\n",
    "        residual, atten_dec = self.self_atten(x, x, x, dec_mask)\n",
    "        residual = self.dropout(residual)\n",
    "        x = self.self_atten_LN(x + residual)\n",
    "\n",
    "        residual, atten_enc_dec = self.enc_dec_atten(x, enc_out, enc_out, enc_dec_mask) # Q는 decoder로부터 K,V는 인코더로 부터\n",
    "        residual = self.dropout(residual)\n",
    "        x = self.enc_dec_atten_LN(x + residual)\n",
    "\n",
    "        residual = self.ff(x)\n",
    "        residual = self.dropout(residual)\n",
    "        x = self.ff_LN(x + residual)\n",
    "\n",
    "        return x, atten_dec, atten_enc_dec\n",
    "\n",
    "class Decoder(nn.Module):\n",
    "    def __init__(self, input_embedding, max_len, n_layers, d_model, d_ff, n_heads, drop_p):\n",
    "        super().__init__()\n",
    "\n",
    "        self.scale = torch.sqrt(torch.tensor(d_model))\n",
    "        self.input_embedding = input_embedding\n",
    "        self.pos_embedding = nn.Embedding(max_len, d_model)\n",
    "\n",
    "        self.dropout = nn.Dropout(drop_p)\n",
    "\n",
    "        self.layers = nn.ModuleList([DecoderLayer(d_model, d_ff, n_heads, drop_p) for _ in range(n_layers)])\n",
    "\n",
    "        self.fc_out = nn.Linear(d_model, vocab_size)\n",
    "\n",
    "    def forward(self, trg, enc_out, dec_mask, enc_dec_mask, atten_map_save = False):    # trg.shape = 개단, enc_out.shape = 개단차, dec_mask.shape = 개헤단단\n",
    "\n",
    "        pos = torch.arange(trg.shape[1]).expand_as(trg).to(DEVICE) # 개단\n",
    "\n",
    "        x = self.scale*self.input_embedding(trg) + self.pos_embedding(pos)\n",
    "        # self.scale를 곱해주면 position보다 token 정보를 더 보게 된다.\n",
    "        x = self.dropout(x)\n",
    "\n",
    "        atten_decs = torch.tensor([]).to(DEVICE)\n",
    "        atten_enc_decs = torch.tensor([]).to(DEVICE)\n",
    "        for layer in self.layers:\n",
    "            x, atten_dec, atten_enc_dec = layer(x, enc_out, dec_mask, enc_dec_mask)\n",
    "            if atten_map_save is True:\n",
    "                atten_decs = torch.cat([atten_decs, atten_dec[0].unsqueeze(0)], dim=0)  # 층헤단단\n",
    "                atten_enc_decs = torch.cat([atten_enc_decs, atten_enc_dec[0].unsqueeze(0)], dim=0)   # 층헤단단\n",
    "\n",
    "        x = self.fc_out(x)\n",
    "\n",
    "        return x, atten_decs, atten_enc_decs\n"
   ]
  },
  {
   "cell_type": "code",
   "execution_count": 25,
   "id": "afae8ae7",
   "metadata": {},
   "outputs": [],
   "source": [
    "class Transformer(nn.Module):\n",
    "    def __init__(self, vocab_size, max_len, n_layers, d_model, d_ff, n_heads, drop_p):\n",
    "        super().__init__()\n",
    "\n",
    "        self.input_embedding = nn.Embedding(vocab_size, d_model)\n",
    "        self.encoder = Encoder(self.input_embedding, max_len, n_layers, d_model, d_ff, n_heads, drop_p)\n",
    "        self.decoder = Decoder(self.input_embedding, max_len, n_layers, d_model, d_ff, n_heads, drop_p)\n",
    "\n",
    "        self.n_heads = n_heads\n",
    "\n",
    "        # for m in self.modules():\n",
    "        #     if hasattr(m, 'weight') and m.weight.dim() > 1: # layer norm에 대해선 initial 안하겠다는 뜻\n",
    "        #         nn.init.kaiming_uniform_(m.weight)  # Kaiming의 분산은 2/Nin\n",
    "\n",
    "        for m in self.modules():\n",
    "            if hasattr(m, 'weight') and m.weight.dim() > 1:\n",
    "                nn.init.xavier_uniform_(m.weight)   # xavier의 분산은 2/(Nin+Nout) 즉, 분산이 더 작다. => 그래서 sigmoid/tanh에 적합한것\n",
    "\n",
    "    def make_enc_mask(self, src):   # src.shape = 개단\n",
    "\n",
    "        enc_mask = (src == pad_idx).unsqueeze(1).unsqueeze(2)   # 개11단\n",
    "        enc_mask = enc_mask.expand(src.shape[0], self.n_heads, src.shape[1], src.shape[1])  # 개헤단단\n",
    "        \"\"\" src pad mask (문장 마다 다르게 생김. 이건 한 문장에 대한 pad 행렬)\n",
    "        F F T T\n",
    "        F F T T\n",
    "        F F T T\n",
    "        F F T T\n",
    "        \"\"\"\n",
    "\n",
    "        return enc_mask\n",
    "\n",
    "    def make_dec_mask(self, trg):   # trg.shape = 개단\n",
    "\n",
    "        # trg_pad_mask = (trg == pad_idx).unsqueeze(1).unsqueeze(2) # 개11단\n",
    "        # trg_pad_mask = trg_pad_mask.expand(trg.shape[0], self.n_heads, trg.shape[1], trg_shape[1])    # 개헤단단\n",
    "        \"\"\" trg pad mask\n",
    "        F F F T T\n",
    "        F F F T T\n",
    "        F F F T T\n",
    "        F F F T T\n",
    "        F F F T T\n",
    "        \"\"\"\n",
    "        trg_future_mask = torch.tril(torch.ones(trg.shape[0], self.n_heads, trg.shape[1], trg.shape[1]))==0 # 개헤단단\n",
    "        # trg_future_mask = trg_future_mask.to(DEVICE)  # pad_mask | future_mask 할때 같은 DEVICE 여야\n",
    "        \"\"\" trg future mask\n",
    "        F T T T T\n",
    "        F F T T T\n",
    "        F F F T T\n",
    "        F F F F T\n",
    "        F F F F F\n",
    "        \"\"\"\n",
    "        # dec_mask = trg_pad_mask | trg_future_mask # dec_mask.shape = 개헤단단\n",
    "        dec_mask = trg_future_mask # dec_mask.shape = 개헤단단 # 문장 중간에 apd가 껴있지 않는 이상 pad mask는 안해도 됨\n",
    "        \"\"\" decoder mask\n",
    "        F T T T T\n",
    "        F F T T T\n",
    "        F F F T T\n",
    "        F F F T T\n",
    "        F F F T T\n",
    "        \"\"\"\n",
    "        return dec_mask\n",
    "\n",
    "    def make_enc_dec_mask(self, src, trg):\n",
    "\n",
    "        enc_dec_mask = (src==pad_idx).unsqueeze(1).unsqueeze(2)  # 개11단\n",
    "        enc_dec_mask = enc_dec_mask.expand(trg.shape[0], self.n_heads, trg.shape[1], src.shape[1])  # 개헤단단\n",
    "        \"\"\" src pad mask\n",
    "        F F T T\n",
    "        F F T T\n",
    "        F F T T\n",
    "        F F T T\n",
    "        F F T T\n",
    "        \"\"\"\n",
    "        return enc_dec_mask\n",
    "\n",
    "    def forward(self, src, trg):\n",
    "\n",
    "        enc_mask = self.make_enc_mask(src)\n",
    "        dec_mask = self.make_dec_mask(trg)\n",
    "        enc_dec_mask = self.make_enc_dec_mask(src, trg)\n",
    "\n",
    "        enc_out, atten_encs = self.encoder(src, enc_mask)\n",
    "        out, atten_decs, atten_enc_decs = self.decoder(trg, enc_out, dec_mask, enc_dec_mask)\n",
    "\n",
    "        return out, atten_encs, atten_decs, atten_enc_decs"
   ]
  },
  {
   "cell_type": "code",
   "execution_count": 26,
   "id": "361b1157",
   "metadata": {},
   "outputs": [
    {
     "name": "stdout",
     "output_type": "stream",
     "text": [
      "src.shape: torch.Size([2, 4])\n",
      "1단계 shape: torch.Size([2, 4])\n",
      "1단계 결과:\n",
      "tensor([[False, False, False,  True],\n",
      "        [False, False,  True,  True]])\n",
      "unsqueeze(1) 후: torch.Size([2, 1, 4])\n",
      "unsqueeze(2) 후: torch.Size([2, 1, 1, 4])\n",
      "2단계 결과:\n",
      "tensor([[[[False, False, False,  True]]],\n",
      "\n",
      "\n",
      "        [[[False, False,  True,  True]]]])\n",
      "3단계 shape: torch.Size([2, 8, 4, 4])\n",
      "첫 번째 문장의 마스크 (4x4):\n",
      "tensor([[False, False, False,  True],\n",
      "        [False, False, False,  True],\n",
      "        [False, False, False,  True],\n",
      "        [False, False, False,  True]])\n",
      "두 번째 문장의 마스크 (4x4):\n",
      "tensor([[False, False,  True,  True],\n",
      "        [False, False,  True,  True],\n",
      "        [False, False,  True,  True],\n",
      "        [False, False,  True,  True]])\n",
      "tensor([[1., 1., 1., 1.],\n",
      "        [1., 1., 1., 1.],\n",
      "        [1., 1., 1., 1.],\n",
      "        [1., 1., 1., 1.]])\n",
      "tensor([[1., 0., 0., 0.],\n",
      "        [1., 1., 0., 0.],\n",
      "        [1., 1., 1., 0.],\n",
      "        [1., 1., 1., 1.]])\n"
     ]
    }
   ],
   "source": [
    "# encoding mask 실험험\n",
    "src = torch.tensor([\n",
    "    [1, 2, 3, 0],\n",
    "    [4, 5, 0, 0]\n",
    "])\n",
    "print(f\"src.shape: {src.shape}\")    # 개단\n",
    "\n",
    "enc_mask = (src == 0)  # pad_idx = 0\n",
    "print(f\"1단계 shape: {enc_mask.shape}\")\n",
    "print(\"1단계 결과:\")\n",
    "print(enc_mask)\n",
    "\n",
    "enc_mask = enc_mask.unsqueeze(1)    # 개1단\n",
    "print(f\"unsqueeze(1) 후: {enc_mask.shape}\")\n",
    "\n",
    "enc_mask = enc_mask.unsqueeze(2)    # 개11단\n",
    "print(f\"unsqueeze(2) 후: {enc_mask.shape}\")\n",
    "print(\"2단계 결과:\")\n",
    "print(enc_mask)\n",
    "\n",
    "batch_size, seq_len = src.shape\n",
    "n_heads = 8\n",
    "\n",
    "# expand()는 크기가 1인 곳만 확장이 가능!!\n",
    "enc_mask = enc_mask.expand(batch_size, n_heads, seq_len, seq_len)   # 개헤단단\n",
    "print(f\"3단계 shape: {enc_mask.shape}\")\n",
    "\n",
    "print(\"첫 번째 문장의 마스크 (4x4):\")\n",
    "print(enc_mask[0, 0])\n",
    "\n",
    "print(\"두 번째 문장의 마스크 (4x4):\")\n",
    "print(enc_mask[1, 0])\n",
    "\n",
    "print(torch.ones(src.shape[0], n_heads, src.shape[1], src.shape[1])[0,0])\n",
    "print(torch.tril(torch.ones(src.shape[0], n_heads, src.shape[1], src.shape[1]))[0,0])"
   ]
  },
  {
   "cell_type": "markdown",
   "id": "f3d3a2a2",
   "metadata": {},
   "source": [
    "#### tril, initialization 실험"
   ]
  },
  {
   "cell_type": "code",
   "execution_count": 27,
   "id": "e5fad008",
   "metadata": {},
   "outputs": [
    {
     "name": "stdout",
     "output_type": "stream",
     "text": [
      "Parameter containing:\n",
      "tensor([1., 1., 1., 1., 1., 1., 1., 1., 1., 1.], requires_grad=True)\n",
      "1\n"
     ]
    }
   ],
   "source": [
    "# 즉, Layer norm은 initialization에서 제외! (왜냐하면 기본적으로 layer norm은 1로 초기화)\n",
    "print(nn.LayerNorm(10).weight)\n",
    "print(nn.LayerNorm(10).weight.dim())"
   ]
  },
  {
   "cell_type": "code",
   "execution_count": 28,
   "id": "4be66963",
   "metadata": {},
   "outputs": [
    {
     "name": "stdout",
     "output_type": "stream",
     "text": [
      "Parameter containing:\n",
      "tensor([[ 0.2320, -0.6486],\n",
      "        [ 0.1311, -0.4684],\n",
      "        [ 0.7065,  0.5172],\n",
      "        [-0.2808,  0.1144],\n",
      "        [ 0.4545,  0.0111],\n",
      "        [ 0.0100,  0.1409],\n",
      "        [-0.3910, -0.3009],\n",
      "        [-0.4807, -0.2571],\n",
      "        [ 0.5259, -0.6719],\n",
      "        [-0.3162,  0.2843]], requires_grad=True)\n",
      "Parameter containing:\n",
      "tensor([[-1.4933, -1.5068],\n",
      "        [-0.0291, -0.3600],\n",
      "        [ 0.1911,  0.4929],\n",
      "        [ 1.3207,  1.1266],\n",
      "        [ 0.6129,  1.2739],\n",
      "        [ 1.3794, -0.2226],\n",
      "        [ 0.6699, -1.6027],\n",
      "        [ 0.7064, -1.0285],\n",
      "        [-1.1749,  0.9008],\n",
      "        [ 1.0151,  1.6283]], requires_grad=True)\n",
      "Parameter containing:\n",
      "tensor([[-0.0547,  0.5906],\n",
      "        [ 0.1350, -0.3315],\n",
      "        [-0.4223,  0.1305],\n",
      "        [ 0.1078,  0.2969],\n",
      "        [-0.0773,  0.4154],\n",
      "        [ 0.4266, -0.6836],\n",
      "        [ 0.6277, -0.5330],\n",
      "        [ 0.5737,  0.3475],\n",
      "        [ 0.3162, -0.1137],\n",
      "        [ 0.4076, -0.5208]], requires_grad=True)\n"
     ]
    }
   ],
   "source": [
    "# Kaiming vs Xavier\n",
    "layer = nn.Linear(2,10)\n",
    "print(layer.weight)\n",
    "nn.init.kaiming_uniform_(layer.weight)\n",
    "print(layer.weight) # in 만 보니깐 분산 크다.\n",
    "nn.init.xavier_uniform_(layer.weight)\n",
    "print(layer.weight) # in out 둘다 보니깐 분산 작다."
   ]
  },
  {
   "cell_type": "markdown",
   "id": "21738e51",
   "metadata": {},
   "source": [
    "### 모델 생성"
   ]
  },
  {
   "cell_type": "code",
   "execution_count": 29,
   "id": "613d4791",
   "metadata": {},
   "outputs": [
    {
     "name": "stdout",
     "output_type": "stream",
     "text": [
      "torch.Size([2, 6])\n",
      "torch.Size([2, 9])\n",
      "torch.Size([2, 8, 65001])\n"
     ]
    }
   ],
   "source": [
    "model = Transformer(vocab_size, max_len, n_layers, d_model, d_ff, n_heads, drop_p).to(DEVICE)\n",
    "\n",
    "src = torch.tensor([\n",
    "                    [4,6,5,1,1,1],\n",
    "                    [7,7,1,1,1,1]]).to(DEVICE)\n",
    "trg = torch.tensor([\n",
    "                    [0,2,5,4,4,3,1,1,0],\n",
    "                    [0,2,9,6,7,3,1,1,0]]).to(DEVICE)\n",
    "\n",
    "model.eval()\n",
    "with torch.no_grad():\n",
    "    x = model(src, trg[:,:-1])[0]\n",
    "print(src.shape)\n",
    "print(trg.shape)\n",
    "print(x.shape)"
   ]
  },
  {
   "cell_type": "markdown",
   "id": "b5ca586c",
   "metadata": {},
   "source": [
    "### Train, Test, Loss_epoch 함수"
   ]
  },
  {
   "cell_type": "code",
   "execution_count": 30,
   "id": "80194fe3",
   "metadata": {},
   "outputs": [],
   "source": [
    "def Train(model, train_DL, val_DL, criterion, optimizer, scheduler = None):\n",
    "    loss_history = {'train': [], 'val': []}\n",
    "    best_loss = int(1e9)\n",
    "    for ep in range(EPOCH):\n",
    "        model.train()   # train mode로 전환\n",
    "        train_loss = loss_epoch(model, train_DL, criterion, optimizer=optimizer, scheduler=scheduler)\n",
    "        loss_history['train'] += [train_loss]\n",
    "\n",
    "        model.eval()    # test mode로 전환\n",
    "        with torch.no_grad():\n",
    "            val_loss = loss_epoch(model, val_DL, criterion)\n",
    "            loss_history['val'] += [val_loss]\n",
    "            if val_loss < best_loss:\n",
    "                best_loss = val_loss\n",
    "                torch.save({\"model\": model,\n",
    "                            \"ep\": ep,\n",
    "                            \"optimizer\": optimizer,\n",
    "                            \"scheduler\": scheduler}\n",
    "                            , save_model_path)\n",
    "        # print loss\n",
    "        print(f\"Epoch {ep+1}: train loss: {train_loss:.5f} val loss: {val_loss:.5f} current_LR: {optimizer.param_group[0]['lr']:.8f}\")\n",
    "        print(\"-\" * 20)\n",
    "\n",
    "def Test(model, test_DL, criterion):\n",
    "    model.eval()    # test mode로 전환\n",
    "    with torch.no_grad():\n",
    "        test_loss = loss_epoch(model, test_DL, criterion)\n",
    "    print(f\"Test loss: {test_loss:.3f} | Test PPL: {math.exp(test_loss):.3f}\")\n",
    "\n",
    "def loss_epoch(model, DL, criterion, optimizer=None, scheduler=None):\n",
    "    N = len(DL.dataset)\n",
    "\n",
    "    rloss=[]\n",
    "    for src_texts, trg_texts in tqdm(DL, leave=False):  # 진행상황을 막대 그래프로 시각화 하기 위해 tqdm를 사용, leave를 false로 사용하여, 막대가 완료 후 사라지도록 설정\n",
    "        src = tokenizer(src_texts, padding=True, truncation=True, max_length=max_len, return_tensors='pt', add_special_tokens=False).input_ids.to(DEVICE)\n",
    "        trg_texts = ['</s> ' + s for s in trg_texts]\n",
    "        trg = tokenizer(trg_texts, padding=True, truncation=True, max_length=max_len, return_tensors='pt', add_special_tokens=True).input_ids.to(DEVICE)\n",
    "        # inference\n",
    "        y_hat = model(src, trg[:,:-1])[0] # 모델 통과 시킬땐 trg의 마지막 토큰은 제외!\n",
    "        # y_hat.shape = 개단차 즉, 훈련 땐 문장이 한번에 튀어나옴\n",
    "        # loss\n",
    "        loss = criterion(y_hat.permute(0,2,1), trg[:,1:])   # loss 계산 시엔 <sos>는 제외!\n",
    "        \"\"\"\n",
    "        개단차 -> 개차단으로 바꿔줌 (1D segmentation으로 생각)\n",
    "        개채행열(예측), 개행열(정답)으로 주거나 개채1열, 개1열로 주거나 개채열, 개열로 줘야하도록 함수를 만들어놔서\n",
    "        우리 상황에서는 개차단, 개단으로 줘야 한다.\n",
    "        이렇게 함수를 만들어놔야 1D, 2D segmentation 등등으로 확장가능하기 때문\n",
    "        다 필요없고, 그냥 y_hat=개차단, trg=개단으로 줘야만 계산 제대로 된다고 생각하면 됨!\n",
    "        \"\"\"\n",
    "\n",
    "        # update\n",
    "        if optimizer is not None:\n",
    "            optimizer.zero_grad()   # gradient 누적 방지\n",
    "            loss.backward()\n",
    "            optimizer.step()        # 기존 가중치에 loss에 따라 계산된 기울기를 빼서 weight update\n",
    "        if scheduler is not None:\n",
    "            scheduler.step()\n",
    "        # loss accumulation\n",
    "        loss_b = loss.item() * src.shape[0]\n",
    "        rloss += loss_b\n",
    "\n",
    "    loss_e = rloss/N\n",
    "    return loss_e\n",
    "\n",
    "def count_params(model):\n",
    "    num = sum([p.numel for p in model.parameters() if p.requires_grad])\n",
    "    return num\n",
    "\n",
    "class NoamScheduler:\n",
    "    def __init__(self, optimizer, d_model, warmup_steps, LR_scale=1):\n",
    "        self.optimizer = optimizer\n",
    "        self.current_step = 0\n",
    "        self.d_model = d_model\n",
    "        self.warmup_steps = warmup_steps\n",
    "        self.LR_scale = LR_scale\n",
    "\n",
    "    def step(self):\n",
    "        self.current_step+=1\n",
    "        lrate = self.LR_scale * (self.d_model ** -.5) * min(self.current_step ** -.5, self.current_step * self.warmup_steps ** -1.5)\n",
    "        self.optimizer.param_groups[0]['lr'] = lrate\n",
    "\n",
    "def plot_scheduler(scheduler_name, optimizer, scheduler, total_steps):  # LR curve 보기\n",
    "    lr_history = []\n",
    "    steps = range(1, total_steps)\n",
    "\n",
    "    for _ in steps: # base model -> 10만 steps (12시간), big model -> 30만 steps (3.5일)로 훈련했다고 함\n",
    "        lr_history += [optimizer.param_groups[0]['lr']]\n",
    "        scheduler.step()\n",
    "\n",
    "    plt.figure()\n",
    "    if scheduler_name == 'Noam':\n",
    "        if total_steps == 100000:\n",
    "            plt.plot(steps, (512 ** -.5) * torch.tensor(steps) ** -.5, 'g--', linewidth=1, label=r\"$d_{\\mathrm{model}}^{-0.5} \\cdot \\mathrm{step}^{-0.5}$\")\n",
    "            plt.plot(steps, (512 ** -.5) * torch.tensor(steps) * 4000 ** -1.5, 'r--', linewidth=1, label=r\"$d_{\\mathrm{model}}^{-0.5} \\cdot \\mathrm{step} \\cdot \\mathrm{warmup\\_steps}^{-1.5}$\")\n",
    "        plt.plot(steps, lr_history, 'b', linewidth=2, alpha=.8, label=\"Learning Rate\")\n",
    "    elif scheduler_name == 'Cos':\n",
    "        plt.plot(steps, lr_history, 'b', linewidth=2, alpha=.8, label='Learning Rate')\n",
    "    plt.ylim([-.1*max(lr_history), 1.2*max(lr_history)])\n",
    "    plt.xlabel('Step')\n",
    "    plt.ylabel('Learning Rate')\n",
    "    plt.grid()\n",
    "    plt.legend()\n",
    "    plt.show()"
   ]
  },
  {
   "cell_type": "code",
   "execution_count": 32,
   "id": "b8fbdee2",
   "metadata": {},
   "outputs": [
    {
     "data": {
      "image/png": "[encoded data removed]",
      "text/plain": [
       "<Figure size 640x480 with 1 Axes>"
      ]
     },
     "metadata": {},
     "output_type": "display_data"
    }
   ],
   "source": [
    "optimizer = optim.Adam(nn.Linear(1, 1).parameters(), lr=0) # 테스트용 optimizer\n",
    "scheduler = NoamScheduler(optimizer, d_model=512, warmup_steps=4000) # 논문 값\n",
    "plot_scheduler(scheduler_name = 'Noam', optimizer = optimizer, scheduler = scheduler, total_steps = 100000)"
   ]
  },
  {
   "cell_type": "markdown",
   "id": "0f78ce6f",
   "metadata": {},
   "source": [
    "### 모델 학습"
   ]
  },
  {
   "cell_type": "code",
   "execution_count": 31,
   "id": "19a72302",
   "metadata": {},
   "outputs": [
    {
     "ename": "NameError",
     "evalue": "name 'optimizer' is not defined",
     "output_type": "error",
     "traceback": [
      "\u001b[1;31m---------------------------------------------------------------------------\u001b[0m",
      "\u001b[1;31mNameError\u001b[0m                                 Traceback (most recent call last)",
      "Cell \u001b[1;32mIn[31], line 15\u001b[0m\n\u001b[0;32m     10\u001b[0m         optimizer \u001b[38;5;241m=\u001b[39m optim\u001b[38;5;241m.\u001b[39mAdam(params, lr\u001b[38;5;241m=\u001b[39mLR_init,    \u001b[38;5;66;03m# cos restart sheduling\u001b[39;00m\n\u001b[0;32m     11\u001b[0m                                betas\u001b[38;5;241m=\u001b[39m(\u001b[38;5;241m.9\u001b[39m, \u001b[38;5;241m.98\u001b[39m), eps\u001b[38;5;241m=\u001b[39m\u001b[38;5;241m1e-9\u001b[39m,\n\u001b[0;32m     12\u001b[0m                                weight_decay\u001b[38;5;241m=\u001b[39mLAMBDA)\n\u001b[0;32m     13\u001b[0m         scheduler \u001b[38;5;241m=\u001b[39m CosineAnnealingWarmRestarts(optimizer, T0, T_mult)\n\u001b[1;32m---> 15\u001b[0m Train(model, train_DL, val_DL, criterion, \u001b[43moptimizer\u001b[49m, scheduler)\n",
      "\u001b[1;31mNameError\u001b[0m: name 'optimizer' is not defined"
     ]
    }
   ],
   "source": [
    "if new_model_train:\n",
    "    params = [p for p in model.parameters() if p.requires_grad]\n",
    "    if scheduler_name == 'Noam':\n",
    "        optimizer = optim.Adam(params, lr=0,\n",
    "                               betas=(.9,.98), eps=1e-9,\n",
    "                               weight_decay=LAMBDA) # 논문에서 제시한 beta와 eps 사용, L2-Regularization은 한번 써봄 & 맨 처음 step의 LR=0으로 출발 (warm-up)\n",
    "        scheduler = NoamScheduler(optimizer, d_model=d_model, warmup_steps=warmup_steps, LR_scale=LR_scale)\n",
    "\n",
    "    elif scheduler_name == 'Cos':\n",
    "        optimizer = optim.Adam(params, lr=LR_init,    # cos restart sheduling\n",
    "                               betas=(.9, .98), eps=1e-9,\n",
    "                               weight_decay=LAMBDA)\n",
    "        scheduler = CosineAnnealingWarmRestarts(optimizer, T0, T_mult)\n",
    "\n",
    "Train(model, train_DL, val_DL, criterion, optimizer, scheduler)"
   ]
  }
 ],
 "metadata": {
  "kernelspec": {
   "display_name": "torch-gpu",
   "language": "python",
   "name": "python3"
  },
  "language_info": {
   "codemirror_mode": {
    "name": "ipython",
    "version": 3
   },
   "file_extension": ".py",
   "mimetype": "text/x-python",
   "name": "python",
   "nbconvert_exporter": "python",
   "pygments_lexer": "ipython3",
   "version": "3.10.14"
  }
 },
 "nbformat": 4,
 "nbformat_minor": 5
}
