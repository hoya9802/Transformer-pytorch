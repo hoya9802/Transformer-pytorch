{
 "cells": [
  {
   "cell_type": "code",
   "execution_count": 1,
   "id": "8296e231-f46d-4646-8821-6a188a7bb1b5",
   "metadata": {},
   "outputs": [],
   "source": [
    "import matplotlib.pyplot as plt\n",
    "plt.rc('font', family=\"Malgun Gothic\")"
   ]
  },
  {
   "cell_type": "code",
   "execution_count": 2,
   "id": "ab065354-2ca1-4fe1-9eb3-c039534616b7",
   "metadata": {},
   "outputs": [
    {
     "name": "stderr",
     "output_type": "stream",
     "text": [
      "c:\\Users\\hoya9\\anaconda3\\envs\\torch-gpu\\lib\\site-packages\\tqdm\\auto.py:21: TqdmWarning: IProgress not found. Please update jupyter and ipywidgets. See https://ipywidgets.readthedocs.io/en/stable/user_install.html\n",
      "  from .autonotebook import tqdm as notebook_tqdm\n"
     ]
    },
    {
     "name": "stdout",
     "output_type": "stream",
     "text": [
      "cuda\n"
     ]
    }
   ],
   "source": [
    "import torch\n",
    "from torch import nn, optim\n",
    "from torch.optim.lr_scheduler import CosineAnnealingWarmRestarts\n",
    "from transformers import MarianMTModel, MarianTokenizer # translation machine\n",
    "import pandas as pd\n",
    "from tqdm import tqdm\n",
    "import math, random\n",
    "from einops import rearrange\n",
    "\n",
    "DEVICE = \"cuda\" if torch.cuda.is_available() else \"CPU\"\n",
    "print(DEVICE)"
   ]
  },
  {
   "cell_type": "code",
   "execution_count": 3,
   "id": "67c8bdb5",
   "metadata": {},
   "outputs": [],
   "source": [
    "# for reproducibility\n",
    "random_seed = 0\n",
    "torch.manual_seed(random_seed)\n",
    "torch.cuda.manual_seed(random_seed)\n",
    "torch.cuda.manual_seed_all(random_seed) # Multi-GPU case\n",
    "torch.backends.cudnn.deterministic = True\n",
    "torch.backends.cudnn.benchmark = False\n",
    "random.seed(random_seed)"
   ]
  },
  {
   "cell_type": "code",
   "execution_count": 4,
   "id": "da12c12e",
   "metadata": {},
   "outputs": [],
   "source": [
    "# Load the tokenizer & model\n",
    "tokenizer = MarianTokenizer.from_pretrained('Helsinki-NLP/opus-mt-ko-en')\n",
    "model = MarianMTModel.from_pretrained('Helsinki-NLP/opus-mt-ko-en') # MT: Machine Translation"
   ]
  },
  {
   "cell_type": "code",
   "execution_count": 5,
   "id": "158f7887",
   "metadata": {},
   "outputs": [
    {
     "name": "stdout",
     "output_type": "stream",
     "text": [
      "eos_idx =  0\n",
      "pad_idx =  65000\n"
     ]
    }
   ],
   "source": [
    "eos_idx = tokenizer.eos_token_id\n",
    "pad_idx = tokenizer.pad_token_id\n",
    "print('eos_idx = ', eos_idx)\n",
    "print('pad_idx = ', pad_idx)"
   ]
  },
  {
   "cell_type": "markdown",
   "id": "b06b90c7",
   "metadata": {},
   "source": [
    "## 하이퍼파라미터 조정"
   ]
  },
  {
   "cell_type": "code",
   "execution_count": 6,
   "id": "1cc9f2b0",
   "metadata": {},
   "outputs": [
    {
     "name": "stderr",
     "output_type": "stream",
     "text": [
      "A subdirectory or file data already exists.\n",
      "Downloading...\n",
      "From (original): https://drive.google.com/uc?id=1bjbeWgqlVKJ9gzDcL1hfD9cIItQy9_N2\n",
      "From (redirected): https://drive.google.com/uc?id=1bjbeWgqlVKJ9gzDcL1hfD9cIItQy9_N2&confirm=t&uuid=28e461f6-e516-4fd4-8c8f-f1dca77b3f6a\n",
      "To: c:\\Users\\hoya9\\OneDrive\\Desktop\\torch-gpu\\Workspace\\Transformer-pytorch\\data\\Transformer_small.pt\n",
      "\n",
      "  0%|          | 0.00/448M [00:00<?, ?B/s]\n",
      "  0%|          | 524k/448M [00:00<02:42, 2.76MB/s]\n",
      "  1%|          | 2.62M/448M [00:00<00:46, 9.63MB/s]\n",
      "  1%|▏         | 6.29M/448M [00:00<00:25, 17.4MB/s]\n",
      "  3%|▎         | 12.6M/448M [00:00<00:13, 31.4MB/s]\n",
      "  4%|▎         | 16.3M/448M [00:00<00:14, 29.0MB/s]\n",
      "  4%|▍         | 19.9M/448M [00:01<00:25, 17.1MB/s]\n",
      "  5%|▌         | 22.5M/448M [00:01<00:27, 15.5MB/s]\n",
      "  6%|▌         | 25.7M/448M [00:01<00:28, 14.8MB/s]\n",
      "  6%|▌         | 27.8M/448M [00:01<00:26, 15.7MB/s]\n",
      "  7%|▋         | 32.0M/448M [00:02<00:45, 9.12MB/s]\n",
      "  8%|▊         | 37.2M/448M [00:02<00:29, 13.7MB/s]\n",
      "  9%|▉         | 39.8M/448M [00:02<00:32, 12.7MB/s]\n",
      " 10%|▉         | 44.6M/448M [00:02<00:24, 16.3MB/s]\n",
      " 11%|█         | 50.3M/448M [00:03<00:17, 22.3MB/s]\n",
      " 12%|█▏        | 54.0M/448M [00:03<00:20, 18.9MB/s]\n",
      " 13%|█▎        | 59.2M/448M [00:03<00:16, 24.3MB/s]\n",
      " 14%|█▍        | 64.5M/448M [00:03<00:13, 29.3MB/s]\n",
      " 16%|█▌        | 70.3M/448M [00:03<00:10, 34.9MB/s]\n",
      " 17%|█▋        | 75.0M/448M [00:04<00:22, 16.3MB/s]\n",
      " 18%|█▊        | 80.2M/448M [00:04<00:26, 13.9MB/s]\n",
      " 19%|█▉        | 84.9M/448M [00:04<00:20, 17.4MB/s]\n",
      " 20%|█▉        | 88.6M/448M [00:04<00:18, 19.9MB/s]\n",
      " 21%|██        | 92.3M/448M [00:05<00:17, 20.0MB/s]\n",
      " 22%|██▏       | 97.0M/448M [00:05<00:18, 19.5MB/s]\n",
      " 22%|██▏       | 101M/448M [00:05<00:15, 21.9MB/s] \n",
      " 24%|██▎       | 105M/448M [00:05<00:14, 23.8MB/s]\n",
      " 24%|██▍       | 109M/448M [00:05<00:15, 22.1MB/s]\n",
      " 25%|██▌       | 112M/448M [00:05<00:13, 24.1MB/s]\n",
      " 26%|██▌       | 116M/448M [00:06<00:13, 25.3MB/s]\n",
      " 27%|██▋       | 119M/448M [00:06<00:13, 25.1MB/s]\n",
      " 27%|██▋       | 123M/448M [00:06<00:11, 28.6MB/s]\n",
      " 28%|██▊       | 126M/448M [00:06<00:13, 23.7MB/s]\n",
      " 29%|██▉       | 131M/448M [00:06<00:11, 28.4MB/s]\n",
      " 30%|███       | 135M/448M [00:06<00:14, 22.0MB/s]\n",
      " 31%|███       | 140M/448M [00:07<00:11, 27.7MB/s]\n",
      " 32%|███▏      | 144M/448M [00:07<00:11, 26.0MB/s]\n",
      " 33%|███▎      | 149M/448M [00:07<00:09, 31.3MB/s]\n",
      " 34%|███▍      | 154M/448M [00:07<00:09, 31.3MB/s]\n",
      " 35%|███▌      | 158M/448M [00:07<00:08, 34.9MB/s]\n",
      " 36%|███▋      | 164M/448M [00:07<00:07, 38.8MB/s]\n",
      " 37%|███▋      | 168M/448M [00:07<00:07, 35.5MB/s]\n",
      " 38%|███▊      | 172M/448M [00:07<00:08, 33.9MB/s]\n",
      " 40%|███▉      | 177M/448M [00:08<00:07, 37.7MB/s]\n",
      " 40%|████      | 181M/448M [00:08<00:09, 29.2MB/s]\n",
      " 41%|████▏     | 186M/448M [00:08<00:08, 31.6MB/s]\n",
      " 42%|████▏     | 189M/448M [00:08<00:08, 30.3MB/s]\n",
      " 43%|████▎     | 195M/448M [00:08<00:07, 35.3MB/s]\n",
      " 45%|████▍     | 200M/448M [00:08<00:06, 38.8MB/s]\n",
      " 45%|████▌     | 204M/448M [00:08<00:06, 38.0MB/s]\n",
      " 47%|████▋     | 209M/448M [00:08<00:05, 40.9MB/s]\n",
      " 48%|████▊     | 214M/448M [00:09<00:05, 42.5MB/s]\n",
      " 49%|████▉     | 219M/448M [00:09<00:05, 41.1MB/s]\n",
      " 50%|█████     | 224M/448M [00:09<00:05, 44.3MB/s]\n",
      " 51%|█████     | 230M/448M [00:09<00:04, 46.4MB/s]\n",
      " 52%|█████▏    | 235M/448M [00:09<00:04, 48.0MB/s]\n",
      " 54%|█████▎    | 240M/448M [00:09<00:04, 46.5MB/s]\n",
      " 55%|█████▍    | 245M/448M [00:09<00:04, 48.0MB/s]\n",
      " 56%|█████▌    | 251M/448M [00:09<00:04, 41.5MB/s]\n",
      " 57%|█████▋    | 256M/448M [00:09<00:04, 43.5MB/s]\n",
      " 58%|█████▊    | 261M/448M [00:10<00:04, 44.2MB/s]\n",
      " 59%|█████▉    | 266M/448M [00:10<00:03, 46.1MB/s]\n",
      " 60%|██████    | 271M/448M [00:10<00:03, 46.2MB/s]\n",
      " 61%|██████▏   | 275M/448M [00:10<00:04, 39.2MB/s]\n",
      " 63%|██████▎   | 280M/448M [00:10<00:03, 42.3MB/s]\n",
      " 64%|██████▎   | 285M/448M [00:10<00:03, 43.5MB/s]\n",
      " 65%|██████▍   | 290M/448M [00:10<00:03, 40.4MB/s]\n",
      " 66%|██████▌   | 294M/448M [00:10<00:03, 39.0MB/s]\n",
      " 67%|██████▋   | 300M/448M [00:11<00:03, 39.8MB/s]\n",
      " 68%|██████▊   | 304M/448M [00:11<00:08, 17.3MB/s]\n",
      " 69%|██████▉   | 310M/448M [00:11<00:06, 22.8MB/s]\n",
      " 70%|███████   | 315M/448M [00:11<00:05, 24.6MB/s]\n",
      " 71%|███████   | 319M/448M [00:12<00:05, 22.0MB/s]\n",
      " 72%|███████▏  | 323M/448M [00:12<00:04, 26.1MB/s]\n",
      " 73%|███████▎  | 328M/448M [00:12<00:04, 29.7MB/s]\n",
      " 74%|███████▍  | 334M/448M [00:12<00:04, 28.6MB/s]\n",
      " 76%|███████▌  | 339M/448M [00:12<00:03, 33.1MB/s]\n",
      " 77%|███████▋  | 344M/448M [00:13<00:04, 25.5MB/s]\n",
      " 78%|███████▊  | 349M/448M [00:13<00:03, 29.0MB/s]\n",
      " 79%|███████▉  | 354M/448M [00:13<00:02, 33.4MB/s]\n",
      " 80%|███████▉  | 359M/448M [00:13<00:03, 26.5MB/s]\n",
      " 81%|████████  | 363M/448M [00:13<00:02, 29.4MB/s]\n",
      " 82%|████████▏ | 366M/448M [00:13<00:02, 27.9MB/s]\n",
      " 83%|████████▎ | 370M/448M [00:13<00:02, 28.0MB/s]\n",
      " 83%|████████▎ | 374M/448M [00:13<00:02, 30.9MB/s]\n",
      " 84%|████████▍ | 378M/448M [00:14<00:02, 30.0MB/s]\n",
      " 85%|████████▌ | 383M/448M [00:14<00:01, 34.5MB/s]\n",
      " 86%|████████▋ | 387M/448M [00:14<00:01, 32.5MB/s]\n",
      " 87%|████████▋ | 391M/448M [00:14<00:01, 31.1MB/s]\n",
      " 88%|████████▊ | 396M/448M [00:14<00:01, 36.1MB/s]\n",
      " 89%|████████▉ | 401M/448M [00:14<00:01, 37.9MB/s]\n",
      " 91%|█████████ | 406M/448M [00:14<00:01, 41.6MB/s]\n",
      " 92%|█████████▏| 411M/448M [00:14<00:00, 39.1MB/s]\n",
      " 93%|█████████▎| 416M/448M [00:15<00:00, 39.6MB/s]\n",
      " 94%|█████████▍| 420M/448M [00:15<00:00, 41.2MB/s]\n",
      " 95%|█████████▍| 425M/448M [00:15<00:00, 38.5MB/s]\n",
      " 96%|█████████▌| 429M/448M [00:15<00:00, 39.0MB/s]\n",
      " 97%|█████████▋| 435M/448M [00:15<00:00, 42.7MB/s]\n",
      " 98%|█████████▊| 440M/448M [00:15<00:00, 33.2MB/s]\n",
      " 99%|█████████▉| 445M/448M [00:15<00:00, 35.6MB/s]\n",
      "100%|██████████| 448M/448M [00:15<00:00, 28.2MB/s]\n",
      "Downloading...\n",
      "From: https://drive.google.com/uc?id=1M0yYP2umxlwaAbk_iq5G_Z5y3qLu9Wet\n",
      "To: c:\\Users\\hoya9\\OneDrive\\Desktop\\torch-gpu\\Workspace\\Transformer-pytorch\\data\\Transformer_small_history.pt\n",
      "\n",
      "  0%|          | 0.00/1.39k [00:00<?, ?B/s]\n",
      "100%|██████████| 1.39k/1.39k [00:00<?, ?B/s]\n"
     ]
    }
   ],
   "source": [
    "BATCH_SIZE = 64 # 실제 논문에선 2.5만 token이 한 batch에 담기게 했다고 함\n",
    "LAMBDA = 0 # l2-Regularization를 위한 hyperparams (저장된 모델)\n",
    "EPOCH = 15 # 저장된 모델\n",
    "max_len = 100 # 길이 제한 (GPU 부담도 많이 감소)\n",
    "\"\"\"\n",
    "decoder에서 모델이 <eos>가 출력되는 것까지는 Loss를 구하고,\n",
    "그뒤 <pad>에 대한 Loss는 무시하기 위한 역활\n",
    "즉, label이 <pad> 일 때는 무시\n",
    "\"\"\"\n",
    "criterion = nn.CrossEntropyLoss(ignore_index=pad_idx)\n",
    "\n",
    "scheduler_name = 'Noam' # Transformer 논문 제 2저자가 제안한 learning rate scheduler\n",
    "scheduler_name = 'Cos'\n",
    "#### Noam ####\n",
    "# warmup_steps = 4000 # 실제 논문에서 제시한 값 (총 10만 step의 4%)\n",
    "warmup_steps = 1000 # 데이터 수 * EPOCH / BS = 총 step 수 인것 고려 (저장된 모델)\n",
    "LR_scale = .5 # Noam scheduler에 peak LR 값 조절을 위해 곱해질 값 (저장된 모델)\n",
    "#### Cos ####\n",
    "LR_init = 5e-4\n",
    "T0 = 1500 # 첫 주기\n",
    "T_mult = 2 # 배 만큼 주기가 길어짐 (1보다 큰 정수여야 함)\n",
    "#############\n",
    "\n",
    "\"\"\"\n",
    "나만의 모델을 만들고 싶으면,\n",
    "new_model_train = True\n",
    "prev_model_use = False\n",
    "\"\"\"\n",
    "new_model_train = False\n",
    "prev_model_use = True\n",
    "\n",
    "!mkdir data\n",
    "\n",
    "if prev_model_use:\n",
    "    !gdown https://drive.google.com/uc?id=1bjbeWgqlVKJ9gzDcL1hfD9cIItQy9_N2 -O data/Transformer_small.pt\n",
    "    !gdown https://drive.google.com/uc?id=1M0yYP2umxlwaAbk_iq5G_Z5y3qLu9Wet -O data/Transformer_small_history.pt\n",
    "\n",
    "    save_model_path = 'data/Transformer_small.pt'\n",
    "    save_history_path = 'data/Transformer_small_history.pt'\n",
    "else:\n",
    "    save_model=path = 'data/Transformer_small2.pt'\n",
    "    save_history_path = 'data/Transformer_small2_history.pt'"
   ]
  },
  {
   "cell_type": "code",
   "execution_count": 7,
   "id": "1803d6a4",
   "metadata": {},
   "outputs": [],
   "source": [
    "\"\"\"\n",
    "논문에 나오는 BASE MODEL\n",
    "train loss를 많이 줄이려면 많은 epoch이 요구됨.\n",
    "test 성능도 높이려면 더 많은 데이터가 필요함\n",
    "\"\"\"\n",
    "n_layers = 6\n",
    "d_model = 512\n",
    "d_ff = 2048\n",
    "n_heads = 8\n",
    "drop_p = .1\n",
    "\n",
    "# 좀 사이즈 줄인 모델 (훈련된 input_embedding, fc_out 사용하면 사용 불가)\n",
    "n_layers = 3\n",
    "d_model = 26\n",
    "d_ff = 512\n",
    "n_heads = 8\n",
    "drop_p = .1"
   ]
  },
  {
   "cell_type": "markdown",
   "id": "49bcc2e5",
   "metadata": {},
   "source": [
    "## 토크나이저 & 학습된 모델 써보기"
   ]
  },
  {
   "cell_type": "code",
   "execution_count": 8,
   "id": "c0d2ecbf",
   "metadata": {},
   "outputs": [
    {
     "name": "stdout",
     "output_type": "stream",
     "text": [
      "['▁H', 'i', ',', '▁I', \"'\", 'm', '▁I', 'an', '.', '▁', '...', '▁a', '▁a', '?']\n",
      "['▁a', '/', 'b', '▁1', '+2', '+3', '▁2:', '1', '▁a', '>', 'b']\n",
      "['▁p', 're', 'tra', 'in', 'ed', '▁re', 'st', 'art']\n",
      "['▁ch', 'at', 'G', 'P', 'T']\n",
      "['▁The', '▁', 'ex', 'am', 'ple', '▁is', '▁', 'very', '▁good', '▁in', '▁', 'our', '▁', 'le', 'c', 'ture']\n",
      "['▁한', '글', '은', '▁어떻게', '▁할까', '?']\n",
      "['▁확실히', '▁띄', '어', '쓰기', '▁기준으로', '▁토', '크', '나이', '징', '을', '▁하는', '▁것', '▁같', '진', '▁않다', '.']\n",
      "['▁여러분', '▁차례', '!']\n"
     ]
    }
   ],
   "source": [
    "# tokenizer 써보기 (_로 띄어쓰기를 나타낸다! 즉, _가 없으면 이어진 한 단어 : subword tokenizing)\n",
    "# tokenizer에 대한 참고 자료: https://ratsgo.github.io/nlpbook/docs/preprocess/bpe/\n",
    "print(tokenizer.tokenize(\"Hi, I'm Ian. ... a  a?\"))\n",
    "print(tokenizer.tokenize('a/b 1+2+3 2:1 a>b'))\n",
    "print(tokenizer.tokenize('pretrained restart'))\n",
    "print(tokenizer.tokenize('chatGPT'))\n",
    "print(tokenizer.tokenize('The example is very good in our lecture'))\n",
    "print(tokenizer.tokenize('한글은 어떻게 할까?'))\n",
    "print(tokenizer.tokenize('확실히 띄어쓰기 기준으로 토크나이징을 하는 것 같진 않다.'))\n",
    "print(tokenizer.tokenize('여러분 차례!'))"
   ]
  },
  {
   "cell_type": "code",
   "execution_count": 9,
   "id": "ed4cd73d",
   "metadata": {},
   "outputs": [
    {
     "name": "stdout",
     "output_type": "stream",
     "text": [
      "65001\n",
      "[34359]\n",
      "[65000]\n",
      "[0]\n",
      "[125]\n",
      "[59]\n",
      "['▁문장', '을', '▁넣으면', '▁to', 'k', 'en', 'ize', '해서', '▁숫자', '로', '▁바꾼', '다']\n",
      "[13774, 51, 40068, 5, 1479, 1252, 5016, 969, 6635, 131, 30737, 161]\n",
      "사람\n",
      "으로\n",
      "make\n",
      "</s> <unk> ., the to of? and s a' in 들<pad> <unk> <unk> <unk>\n"
     ]
    }
   ],
   "source": [
    "# print(tokenizer.get_vocab()) # tokenizer에 들어있는 모든 토큰과 토큰의 해당하는 번호를 dict으로 가짐\n",
    "vocab_size = tokenizer.vocab_size\n",
    "print((vocab_size))\n",
    "\n",
    "# add_special_token은 <eos> 자동 붙여주는 것을 방지\n",
    "print(tokenizer.encode('지능', add_special_tokens=False))   # string to index\n",
    "print(tokenizer.encode('<pad>', add_special_tokens=False))  # <pad>는 65000\n",
    "print(tokenizer.encode('</s>', add_special_tokens=False))   # <sos> or <eos>는 0\n",
    "print(tokenizer.encode('He', add_special_tokens=False))\n",
    "print(tokenizer.encode('he', add_special_tokens=False))     # 대소문자 다른 단어로 인식\n",
    "print(tokenizer.tokenize('문장을 넣으면 tokenize해서 숫자로 바꾼다'))\n",
    "print(tokenizer.encode('문장을 넣으면 tokenize해서 숫자로 바꾼다', add_special_tokens=False))\n",
    "print(tokenizer.decode([204]))\n",
    "print(tokenizer.decode([206]))\n",
    "print(tokenizer.decode([210]))\n",
    "print(tokenizer.decode(list(range(15)) + [65000, 65001, 65002, 65003]))"
   ]
  },
  {
   "cell_type": "code",
   "execution_count": 10,
   "id": "ac1244ca",
   "metadata": {},
   "outputs": [
    {
     "name": "stdout",
     "output_type": "stream",
     "text": [
      "입력: 지금 너무 배고프다... 치킨먹고 싶다!\n",
      "번역 결과: I'm so hungry right now... and I want chicken!\n"
     ]
    }
   ],
   "source": [
    "# 사전 학습된 모델로 번역\n",
    "input_text = \"지금 너무 배고프다... 치킨먹고 싶다!\"\n",
    "\n",
    "input_tokens = tokenizer.encode(input_text, return_tensors=\"pt\")    # 모델에서 weight와 행렬곱을 하기 위해 2차원 벡터로 변경경\n",
    "translated_tokens = model.generate(input_tokens, max_new_tokens=max_len)    # max_len까지만 출력\n",
    "translated_text = tokenizer.decode(translated_tokens[0], skip_special_tokens=True)  # <pad> </s> <unk> 같은 특수 토큰은 출력에서 제외외\n",
    "\n",
    "print(\"입력:\", input_text)\n",
    "print(\"번역 결과:\", translated_text)"
   ]
  },
  {
   "cell_type": "code",
   "execution_count": 11,
   "id": "c1513ecf",
   "metadata": {},
   "outputs": [
    {
     "name": "stderr",
     "output_type": "stream",
     "text": [
      "Downloading...\n",
      "From: https://drive.google.com/uc?id=1r4ZnFJOStyBlNRx7snBQ-Iq2GNyJKL6t\n",
      "To: c:\\Users\\hoya9\\OneDrive\\Desktop\\torch-gpu\\Workspace\\Transformer-pytorch\\data\\dialogue.xlsx\n",
      "\n",
      "  0%|          | 0.00/9.57M [00:00<?, ?B/s]\n",
      "  5%|▌         | 524k/9.57M [00:00<00:03, 2.77MB/s]\n",
      " 27%|██▋       | 2.62M/9.57M [00:00<00:00, 9.51MB/s]\n",
      " 77%|███████▋  | 7.34M/9.57M [00:00<00:00, 20.3MB/s]\n",
      "100%|██████████| 9.57M/9.57M [00:00<00:00, 17.6MB/s]\n"
     ]
    }
   ],
   "source": [
    "# data download\n",
    "# https://aihub.or.kr/aihubdata/data/view.do?currMenu=115&topMenu=100&aihubDataSe=realm&dataSetSn=126 데이터 경로\n",
    "!gdown https://drive.google.com/uc?id=1r4ZnFJOStyBlNRx7snBQ-Iq2GNyJKL6t -O data/dialogue.xlsx\n",
    "data = pd.read_excel('data/dialogue.xlsx')"
   ]
  },
  {
   "cell_type": "code",
   "execution_count": 12,
   "id": "ee50e2e0",
   "metadata": {},
   "outputs": [
    {
     "name": "stdout",
     "output_type": "stream",
     "text": [
      "(100000, 7)\n",
      "    대분류 소분류       상황  Set Nr.  발화자                            원문  \\\n",
      "0  비즈니스  회의  의견 교환하기        1  A-1   이번 신제품 출시에 대한 시장의 반응은 어떤가요?   \n",
      "1  비즈니스  회의  의견 교환하기        1  B-1    판매량이 지난번 제품보다 빠르게 늘고 있습니다.   \n",
      "2  비즈니스  회의  의견 교환하기        1  A-2  그렇다면 공장에 연락해서 주문량을 더 늘려야겠네요.   \n",
      "\n",
      "                                                 번역문  \n",
      "0  How is the market's reaction to the newly rele...  \n",
      "1  The sales increase is faster than the previous...  \n",
      "2  Then, we'll have to call the manufacturer and ...  \n"
     ]
    }
   ],
   "source": [
    "print(data.shape)\n",
    "print(data.head(3))"
   ]
  },
  {
   "cell_type": "code",
   "execution_count": 13,
   "id": "94007baa",
   "metadata": {},
   "outputs": [
    {
     "name": "stdout",
     "output_type": "stream",
     "text": [
      "97000\n",
      "2000\n",
      "1000\n"
     ]
    }
   ],
   "source": [
    "class CustomDataset(torch.utils.data.Dataset):\n",
    "    def __init__(self, data):\n",
    "        self.data = data\n",
    "\n",
    "    def __len__(self):\n",
    "        return self.data.shape[0]\n",
    "\n",
    "    def __getitem__(self, idx):\n",
    "        return self.data.loc[idx, '원문'], self.data.loc[idx, '번역문']\n",
    "\n",
    "custom_DS = CustomDataset(data)\n",
    "\n",
    "train_DS, val_DS, test_DS = torch.utils.data.random_split(custom_DS, [97000, 2000, 1000])\n",
    "# 논문에서는 450만개 영, 독 문장 pair 사용\n",
    "\n",
    "train_DL = torch.utils.data.DataLoader(train_DS, batch_size=BATCH_SIZE, shuffle=True)\n",
    "val_DL = torch.utils.data.DataLoader(val_DS, batch_size=BATCH_SIZE, shuffle=True)\n",
    "test_DL = torch.utils.data.DataLoader(test_DS, batch_size=BATCH_SIZE, shuffle=True)\n",
    "\n",
    "print(len(train_DS))\n",
    "print(len(val_DS))\n",
    "print(len(test_DS))"
   ]
  },
  {
   "cell_type": "code",
   "execution_count": 14,
   "id": "b55c07b7",
   "metadata": {},
   "outputs": [
    {
     "name": "stdout",
     "output_type": "stream",
     "text": [
      "인덱스: 19993\n",
      "원문: 나도 그랬으면 좋겠지만 겨울까지 휴가 못 가.\n",
      "영문: I wish I could, but I can't go on vacation until winter.\n"
     ]
    }
   ],
   "source": [
    "# test_DS 확인\n",
    "i = 5\n",
    "src_text, trg_text = test_DS[i]\n",
    "\n",
    "print(f\"인덱스: {test_DS.indices[i]}\")   # 원본 데이터에서의 인덱스 추척\n",
    "print(f\"원문: {src_text}\")\n",
    "print(f\"영문: {trg_text}\")"
   ]
  },
  {
   "cell_type": "code",
   "execution_count": 15,
   "id": "1a2ca7ad",
   "metadata": {},
   "outputs": [
    {
     "name": "stdout",
     "output_type": "stream",
     "text": [
      "('아메리카노 1잔과 샌드위치 1개를 내일 아침 제 방으로 가져다주세요.', '아닙니다, 바로 다음에 나올 음식을 손님께 드리도록 할게요.', '2인분 추가 주문하면 음식이 나오는 데 얼마나 걸릴까요?', '일러스트 프로그램은 추가로 설치를 하셔야 하는데, 30분 정도 시간이 걸릴 것입니다.', '여기 이 부분이요, 아까 설명해주신 거랑 좀 다른 것 같은데요?', '그 제품은 품절되어 현재 남은 물량이 없습니다.', '새 상품과 기존에 받으셨던 상품의 맞교환으로 진행해드리겠습니다.', '그러게, 심지어 더치페이를 얼마를 해야 하는지 계산도 해줘.', '판매하는 핸드폰 케이스 종류를 늘려야 할인지도 모르겠어요.', '응, 식구들도 일찍 집에서 나가서 나를 깨워줄 사람이 없었어.', '하지만 꼭 인기 있는 주인공만 출연하는 것 같아.', '혹시 기내에서 카드 결제도 가능한가요?', '이 수박은 먹을 수도 없으니 환불 부탁드립니다.', '생각보다 음료가 너무 써서 그런데 시럽을 좀 추가할 수 있을까요?', '새로 계약하기로 했던 거 어떻게 되어가고 있어요?', '신경이 많이 쓰여서 웃을 때도 크게 안 웃거든요.', '마음에 드셨다니 다행이네요, 20분 정도 걸리는데 괜찮으세요?', '지금 퇴근하는 시간이라 차가 많이 막히지 않을까?', '그러면 저희 방으로 치킨을 시켜주실 수 있나요?', '한 팩에 물티슈가 100매 정도 들어 있습니다.', '체크인 시간은 11시까지인데, 혹시 언제 오세요?', '11일은 저희 쪽에서 힘들 것 같으니, 12일로 할 수 있을까요?', '장대리, 이번 우수실적 명단에 포함된 것 축하해.', '이 절에 가려면 버스를 타고 한 시간을 가야 해.', '다른 지점보다 훨씬 저렴하네요. 오늘 아무 때나 방문해도 될까요?', '몇 년간 꾸준히 SNS 활동을 했으며 이전에 상품 리뷰를 작성한 경험이 있는 사람들을 우선순위로 뽑았습니다.', '그러게, 아까 길 물어봤을 때 거기서 5분만 걸어가면 보인다고 했는데 말이지.', '요즘은 로봇 청소기보다 무선 청소기가 인기가 많습니다.', '3박 4일인데, 지금 남은 걸로 되지 않겠어?', '하지만 공이 팔에 닿을 때 너무 아파서 겁을 내게 돼.', '안녕하세요, 제가 연락드렸던 한국철강의 김민수 과장입니다.', '고속도로로 가면 요금이 더 추가되는데 괜찮으세요?', '일단 우리가 만날 회사 팀장님과 이사님의 정보가 필요해.', '제가 계속 일을 해야 해서요, 담당자분은 지금 바로 오실 수 있나요?', '앱을 확인하시면 제품 주문 상태가 보이실 겁니다.', '여기로 돌아올 수 없다니 대체 그게 무슨 말이야?', '본사 홍보팀과의 미팅건은 어떻게 진행해야 할까요?', '안타깝군요. 그냥 다른 팀 보러 가시는 건 어떠세요?', '제가 필요한 건 헤어 제품들인데, 헤어 제품들 관련 이벤트도 있다고 들었어요.', '면세 제한이 너무 많아서 힘드네요.', '9월부터는 1년 정도 광고가 가능하니 주문서 작성 바랍니다.', '홈페이지에 들어가셔서 메시지 작성하는 칸에 내용을 작성해 주세요.', '네, 하지만 그렇다면 사이즈를 저희 가게에서 측정해드릴 수 있습니다.', '뭐 음식도 아니고 그냥 껌일 뿐인데 왜 뱉어야 하는데?', '청소할 수 있는 봉투를 하나만 주시면 저희가 정리를 할 수 있을 것 같아요.', '네, 발목까지만 딱 맞는 상품이면 좋겠어요.', '액자를 구매하려고 하는데 세트 안에 벽에 걸 수 있는 여분의 못이 들어있나요?', '곧 저녁 시간이니까 밥이라도 먹으면서 얘기 나누자.', '어떤 부품인지 사진 찍어 보내주시면 확인 후 처리해드리겠습니다.', '그냥 사줘도 괜찮은데, 정말 네가 직접 만든 거야?', '샤부샤부 고기에 포함된 금액이 아니고, 무제한으로 먹을 수 있는 채소인 줄 알았는데요.', '중고 책이라면 2층으로 올라가셔야 하는데, 찾는 제품이 있나요?', '이쯤에 있다고 했는데 왜 버스정류장 표시가 안 보이지?', '클림트였군요, 정말 그림이 화려하고 아름답습니다.', '저기요, 주문한 음식이 아직도 나오지 않았어요.', '꼭 밥을 먹고 먹어야 하나요, 바쁘면 못 먹을 때도 있어서요.', '항상 그랬던 것처럼 넉넉하게 하는 게 좋지 않겠어?', '아니야, 너무 맛있는데 점심에 먹은 소화가 잘 안 됐나 봐.', '제가 젓가락을 잘 못 써서요, 포크만 있다면 괜찮습니다.', '네, 양식에 맞춰서 모든 비용을 기록하였습니다.', '우리 근처 어디 가서 커피 좀 마시자, 목마르다.', '아쉽네요, 그럼 피자 대신 완자로 변경할 수 있나요?', '아이 성별은 어떻게 되고, 들어가는 모습은 보셨나요?', '고객사의 요청이 있어서 이번에 해상 배송 말고 항공 배송을 해야 할 거 같아요.')\n",
      "('Please bring me a cup of Americano and a sandwich to my room tomorrow morning.', 'No, I will get you the dish that comes out next.', 'How long will it take to get the food served if I order an additional two servings?', 'For the illustration program, additional installation is required, which will take about 30 minutes.', 'This part here, it looks like it is a bit different from what you explained to me.', 'The product is out of stock fully at the present.', 'I will exchange it for the new product with the ones you received.', 'Yeah, it even calculates how much we should go dutch.', 'We might have to increase the variety of cell phone cases we sell.', 'Yes, and my family members all left the house early so there was nobody to wake me up.', 'But I think only the most popular characters appear.', 'Can I pay with a credit card onboard?', \"I can't even eat this watermelon so please refund it.\", \"The drink is more bitter than I thought it'd be, good I get a syrup shot?\", 'How is the new contract we agreed to make going?', 'It really bothers me, so I don’t laugh with my mouth open wide when I laugh.', \"I'm glad you enjoyed it, it'll take around 20 minutes if that’s ok?\", \"It's rush hour, so wouldn't there be bad traffic?\", 'Then, can you order some chicken to our room?', 'There are about 100 sheets in one pack of wet tissues.', 'The check-in time is 11 am, so when will you be arriving?', 'I think the 11th would be hard for us, so can we do it on the 12th?', 'Mr. Jang, Congratulations on being included on the excellent performance list.', \"To get into this temple, you'll need to take a bus for an hour.\", \"It's much cheaper than other stores. May I visit anytime today?\", \"They've been continuously active on social networking sites for years, and we've chosen people who have previously written product reviews as a priority.\", \"The last time we asked, they said that we'll find the restaurant if we walk for 5 minutes.\", 'Nowadays, wireless vacuum cleaners are more popular than robotic vacuum cleaners.', \"It's only for 3 nights and 4 days, so wouldn't what we have now be enough?\", \"But it hurts too much when the ball hits my arm, so I'm scared.\", \"Hello, I'm Min-Soo Kim, the manger of Korean Steel and I contacted earlier.\", \"It'll cost extra on the highway, are you alright with that?\", 'First, I need information on the Head of Department and the Director of the company we are meeting.', 'I have to continue working, can the person come right away?', \"If you check the app, you'll see the status of your product order.\", 'What on earth do you mean by that?', 'How should we conduct the meeting with the HQ promotion team?', \"That's too bad. Why don't you just go see another team?\", \"I'm looking for hair products and I heard there is a hair product event, as well.\", \"It's tough because there are too many duty-free restrictions.\", '1 year of advertising would be possible from September so please write an order request form.', 'Go to the web page and write the contents in the box for the message.', 'Yes, but if so, we can measure your size in our store.', \"It's not even food and just a gum so why do I need to spit it out?\", 'I think we can tidy up things a little bit if you can just give us one cleaning bag.', 'Okay, I hope the pants come right to my ankles.', 'I would like to buy a picture frame, and are there extra nails in the set to hang it on the wall?', \"It's soon to be dinner, so let's grab some food and talk it over.\", 'Please send us a picture of the part and I will take care of it after checking.', 'You could have just bought me one, Do you really make this?', 'I thought it was not included in the Shabu-shabu meat but could have unlimited vegetables.', \"If you're looking for used books, you have to go up to the 2nd floor, was there a book you were looking for?\", \"I was told that it's should be here somewhere, but how come I can't see the bus stop sign?\", \"It's Klimt, the painting is really gorgeous and beautiful.\", \"Excuse me, the food we ordered still hasn't come out.\", \"Do I have to take it after a meal? Because I don't get to eat when I am busy.\", \"Wouldn't it be good to leave enough days like always?\", \"No, it's really good, but I think I haven't been able to digest my lunch well.\", \"I am not good at using chopsticks, it's fine as long as there are forks.\", 'Yes, I wrote down all the expenses according to the form.', \"Let's go somewhere nearby to get some coffee since I am thirsty.\", 'Too bad, then can I change to meatball instead of pizza?', 'Whats your childs gender, and when did you see him go in?', 'There was a request from the client company so I think we will have to send it by plane instead of by ship.')\n",
      "64\n",
      "64\n",
      "tensor([[11943,  1088,   132,  3699,   162, 35280,   132, 14291,  4050,  3547,\n",
      "           303, 34412, 17832,  6339,     2, 65000, 65000, 65000, 65000, 65000,\n",
      "         65000, 65000, 65000, 65000, 65000, 65000],\n",
      "        [ 2069,     3,   642,  7076,  9198, 13496,  2479, 19676,  7335,   581,\n",
      "         14159,     2, 65000, 65000, 65000, 65000, 65000, 65000, 65000, 65000,\n",
      "         65000, 65000, 65000, 65000, 65000, 65000]])\n",
      "tensor([[    0,  1068,  1516, 17871,   575,  9630,    75,    11,  1487,  3185,\n",
      "             6,     9, 23346,   965,     8,    11,   979,  1732,  2196, 17110,\n",
      "             5,    84,     9,  2839,  6081,     5,   107,   992, 12163,  1495,\n",
      "           992,   649,   130,     2,     0, 65000, 65000, 65000, 65000, 65000,\n",
      "         65000, 65000, 65000, 65000, 65000, 65000, 65000, 65000, 65000, 65000,\n",
      "         65000, 65000, 65000, 65000, 65000, 65000, 65000, 65000, 65000, 65000,\n",
      "         65000, 65000, 65000, 65000, 65000, 65000, 65000, 65000],\n",
      "        [    0,   254,     3,    16,    61,   167,    18,     4,  4225,  3965,\n",
      "            15, 16373,   833,     9,  4503,  3898, 30959,     2,     0, 65000,\n",
      "         65000, 65000, 65000, 65000, 65000, 65000, 65000, 65000, 65000, 65000,\n",
      "         65000, 65000, 65000, 65000, 65000, 65000, 65000, 65000, 65000, 65000,\n",
      "         65000, 65000, 65000, 65000, 65000, 65000, 65000, 65000, 65000, 65000,\n",
      "         65000, 65000, 65000, 65000, 65000, 65000, 65000, 65000, 65000, 65000,\n",
      "         65000, 65000, 65000, 65000, 65000, 65000, 65000, 65000]])\n",
      "torch.Size([64, 26])\n",
      "torch.Size([64, 68])\n",
      "tensor([65000, 65000, 65000, 65000, 65000, 65000, 65000, 65000, 65000, 65000,\n",
      "        65000, 65000, 65000, 65000, 65000, 65000, 65000, 65000, 65000, 65000,\n",
      "        65000, 65000, 65000, 65000, 65000,     0, 65000, 65000, 65000, 65000,\n",
      "        65000, 65000, 65000, 65000, 65000, 65000, 65000, 65000, 65000, 65000,\n",
      "        65000, 65000, 65000, 65000, 65000, 65000, 65000, 65000, 65000, 65000,\n",
      "        65000, 65000, 65000, 65000, 65000, 65000, 65000, 65000, 65000, 65000,\n",
      "        65000, 65000, 65000, 65000])\n",
      "</s> They've been continuously active on social networking sites for years, and we've chosen people who have previously written product reviews as a priority.</s>\n",
      "tensor([    0,    57,  5502, 10510,   897,    49,    20,     9,  4503,     6,\n",
      "         7226,  9438,  1731, 40773,   350,     9,  2253,     4,  1835, 27342,\n",
      "         3166,     2,     0, 65000, 65000, 65000, 65000, 65000, 65000, 65000,\n",
      "        65000, 65000, 65000, 65000, 65000, 65000, 65000, 65000, 65000, 65000,\n",
      "        65000, 65000, 65000, 65000, 65000, 65000, 65000, 65000, 65000, 65000,\n",
      "        65000, 65000, 65000, 65000, 65000, 65000, 65000, 65000, 65000, 65000,\n",
      "        65000, 65000, 65000, 65000, 65000, 65000, 65000])\n",
      "tensor([   57,  5502, 10510,   897,    49,    20,     9,  4503,     6,  7226,\n",
      "         9438,  1731, 40773,   350,     9,  2253,     4,  1835, 27342,  3166,\n",
      "            2,     0, 65000, 65000, 65000, 65000, 65000, 65000, 65000, 65000,\n",
      "        65000, 65000, 65000, 65000, 65000, 65000, 65000, 65000, 65000, 65000,\n",
      "        65000, 65000, 65000, 65000, 65000, 65000, 65000, 65000, 65000, 65000,\n",
      "        65000, 65000, 65000, 65000, 65000, 65000, 65000, 65000, 65000, 65000,\n",
      "        65000, 65000, 65000, 65000, 65000, 65000, 65000])\n"
     ]
    }
   ],
   "source": [
    "# train_DL TEST\n",
    "for src_texts, trg_texts in train_DL:\n",
    "    print(src_texts)\n",
    "    print(trg_texts)\n",
    "    print(len(src_texts))\n",
    "    print(len(trg_texts))\n",
    "\n",
    "\n",
    "    # 여러 문장에 대해서는 tokenizer.encode() 가 아닌 그냥 tokenizer()사용\n",
    "    # add_special_tokens = True (default)면 <eos>를 붙임\n",
    "    # truncation = True: max_len 보다 길면 끊음\n",
    "    src = tokenizer(src_texts, padding=True, truncation=True, max_length=max_len, return_tensors='pt', add_special_tokens=False).input_ids\n",
    "    # <sos>가 tokenizer에 따로 없어서 </s> 를 <sos> 로서 사용\n",
    "    trg_texts = ['</s> '+ s for s in trg_texts]\n",
    "    trg = tokenizer(trg_texts, padding=True, truncation=True, max_length=max_len, return_tensors='pt', add_special_tokens=True).input_ids\n",
    "\n",
    "    print(src[:2])\n",
    "    print(trg[:2])\n",
    "    print(src.shape)\n",
    "    print(trg.shape)\n",
    "    print(trg[:,-1])    # 가장 마지막 단어를 보니 어떤 문장은 <eos> 로 끝이 났고 나머지는 <pad> 로 끝이 났다는 걸 볼 수 있음\n",
    "    print(tokenizer.decode(trg[trg[:,-1]==eos_idx,:][0]))   # 가장 긴 문장들 중 첫 번째 문장 관찰\n",
    "    print(trg[5,:-1])  # 디코더 입력\n",
    "    print(trg[5,1:])   # 디코더 출력으로 나와야 할 label\n",
    "    # 어차피 출력으로 pad token이 기다리고 있으니 loss에서 ignore로 인해 다 무시되므로 eos가 들어가도 상관없음\n",
    "\n",
    "    break"
   ]
  },
  {
   "cell_type": "code",
   "execution_count": 16,
   "id": "d6bd8f8e",
   "metadata": {},
   "outputs": [
    {
     "name": "stdout",
     "output_type": "stream",
     "text": [
      "입력: 나도 그랬으면 좋겠지만 겨울까지 휴가 못 가.\n",
      "정답: I wish I could, but I can't go on vacation until winter.\n",
      "AI의 번역: <pad> I wish I could, but I can't go on vacation until winter.</s>\n"
     ]
    }
   ],
   "source": [
    "# 내가 쓸 train data 에 대해서 MarianMTmodel이 잘 번역하는지 확인\n",
    "src_text, trg_text = test_DS[5]\n",
    "print(f\"입력: {src_text}\")\n",
    "print(f\"정답: {trg_text}\")\n",
    "\n",
    "src = tokenizer.encode(src_text, return_tensors='pt', add_special_tokens=True)\n",
    "# add_special_tokens = False 해보면 뭔가 이상하게 번역함 (학습 때 source에도 <eos>를 넣었단 증거?)\n",
    "translated_tokens = model.generate(src, max_new_tokens=max_len)\n",
    "translated_text = tokenizer.decode(translated_tokens[0], skip_special_tokens=False)\n",
    "\n",
    "print(f\"AI의 번역: {translated_text}\")  # 디코더 첫 입력으로 <pad> 토큰을 넣었음. (<pad>를 <sos>로 사용)\n"
   ]
  },
  {
   "cell_type": "markdown",
   "id": "1f7f91b8",
   "metadata": {},
   "source": [
    "## 모델 구현"
   ]
  },
  {
   "cell_type": "markdown",
   "id": "35f8bf59",
   "metadata": {},
   "source": [
    "### Multi-Head Attention"
   ]
  },
  {
   "cell_type": "code",
   "execution_count": 17,
   "id": "5c42ac51",
   "metadata": {},
   "outputs": [],
   "source": [
    "class MHA(nn.Module):\n",
    "    def __init__(self, d_model, n_heads):\n",
    "        super().__init__()\n",
    "\n",
    "        self.n_heads = n_heads\n",
    "\n",
    "        self.fc_q = nn.Linear(d_model, d_model)\n",
    "        self.fc_k = nn.Linear(d_model, d_model)\n",
    "        self.fc_v = nn.Linear(d_model, d_model)\n",
    "        self.fc_o = nn.Linear(d_model, d_model)\n",
    "\n",
    "        self.scale = torch.sqrt(torch.tensor(d_model / n_heads))\n",
    "\n",
    "    def forward(self, Q, K, V, mask=None):\n",
    "\n",
    "        Q = self.fc_q(Q) # 개단차\n",
    "        K = self.fc_k(K)\n",
    "        V = self.fc_v(V)\n",
    "\n",
    "        Q = rearrange(Q, '개 단 (헤 차) -> 개 헤 단 차', 헤=self.n_heads) # 개단차 -> 개헤단차\n",
    "        K = rearrange(K, '개 단 (헤 차) -> 개 헤 단 차', 헤=self.n_heads)\n",
    "        V = rearrange(V, '개 단 (헤 차) -> 개 헤 단 차', 헤=self.n_heads)\n",
    "\n",
    "        attention_score = Q @ K.transpose(-2,-1)/self.scale # 개헤단단\n",
    "\n",
    "        if mask is not None:\n",
    "            attention_score[mask] = -1e10\n",
    "\n",
    "        attention_weights = torch.softmax(attention_score, dim=-1) # 개헤단단\n",
    "\n",
    "        attention = attention_weights @ V # 개헤단차\n",
    "\n",
    "        X = rearrange(attention, '개 헤 단 차 -> 개 단 (헤 차)') # 개헤단차 -> 개단차\n",
    "        x = self.fc_o(X) # 개단차\n",
    "\n",
    "        return x, attention_weights\n",
    "\n",
    "class FeedForward(nn.Module):\n",
    "    def __init__(self, d_model, d_ff, drop_p):\n",
    "        super().__init__()\n",
    "\n",
    "        self.linear = nn.Sequential(nn.Linear(d_model, d_ff),\n",
    "                                    nn.ReLU(),\n",
    "                                    nn.Dropout(drop_p), # 논문에는 명시하진 않았지만, overfitting에 취약한 부분이기 때문에 추가\n",
    "                                    nn.Linear(d_ff, d_model))\n",
    "\n",
    "    def forward(self, x):\n",
    "        x = self.linear(x)\n",
    "        return x"
   ]
  },
  {
   "cell_type": "code",
   "execution_count": 18,
   "id": "576240d6",
   "metadata": {},
   "outputs": [
    {
     "name": "stdout",
     "output_type": "stream",
     "text": [
      "tensor([[[ 0.2595, -0.4927, -0.4737, -0.2074, -1.9427, -1.7322],\n",
      "         [-0.5939, -1.1785, -0.7656, -1.9260, -0.8876, -0.6519],\n",
      "         [ 0.1413, -1.7858,  0.2259, -0.0683, -0.4737, -1.9399],\n",
      "         [-1.4287, -0.6150,  0.4548,  0.8434,  1.2168, -0.7239]]])\n",
      "tensor([[[[ 0.2595, -0.4927],\n",
      "          [-0.5939, -1.1785],\n",
      "          [ 0.1413, -1.7858],\n",
      "          [-1.4287, -0.6150]],\n",
      "\n",
      "         [[-0.4737, -0.2074],\n",
      "          [-0.7656, -1.9260],\n",
      "          [ 0.2259, -0.0683],\n",
      "          [ 0.4548,  0.8434]],\n",
      "\n",
      "         [[-1.9427, -1.7322],\n",
      "          [-0.8876, -0.6519],\n",
      "          [-0.4737, -1.9399],\n",
      "          [ 1.2168, -0.7239]]]])\n",
      "torch.Size([1, 3, 4, 2])\n",
      "tensor([[[ 0.2595, -0.4927, -0.4737, -0.2074, -1.9427, -1.7322],\n",
      "         [-0.5939, -1.1785, -0.7656, -1.9260, -0.8876, -0.6519],\n",
      "         [ 0.1413, -1.7858,  0.2259, -0.0683, -0.4737, -1.9399],\n",
      "         [-1.4287, -0.6150,  0.4548,  0.8434,  1.2168, -0.7239]]])\n",
      "torch.Size([1, 4, 6])\n"
     ]
    }
   ],
   "source": [
    "Q = torch.randn(1, 4, 6)    # 개단차\n",
    "print(Q)\n",
    "\n",
    "Q = rearrange(Q, '개 단 (헤 차) -> 개 헤 단 차', 헤=3)  # 개단차 -> 개헤단차\n",
    "# 주의! (차 헤)로 해보면 나뉜 데이터가 또 다름. 차원의 수 6을 헤드의 수 3으로 쪼개는 것이므로 (헤 차) 가 맞다.\n",
    "print(Q)\n",
    "print(Q.shape)\n",
    "\n",
    "x = rearrange(Q, '개 헤 단 차 -> 개 단 (헤 차)') # 개헤단차 -> 개단차\n",
    "print(x)\n",
    "print(x.shape)"
   ]
  },
  {
   "cell_type": "code",
   "execution_count": 19,
   "id": "e8b01e89",
   "metadata": {},
   "outputs": [
    {
     "data": {
      "text/plain": [
       "[<matplotlib.lines.Line2D at 0x20559a9e830>]"
      ]
     },
     "execution_count": 19,
     "metadata": {},
     "output_type": "execute_result"
    },
    {
     "data": {
      "image/png": "[encoded data removed]",
      "text/plain": [
       "<Figure size 640x480 with 1 Axes>"
      ]
     },
     "metadata": {},
     "output_type": "display_data"
    }
   ],
   "source": [
    "# scaling을 sqrt(dk)로 하는 이유 : 안나누면 softmax로 들어갈때 분산이 커져 grad가 작아짐\n",
    "n = torch.arange(1, 513)\n",
    "N = 1000\n",
    "result = []\n",
    "for ni in n:\n",
    "    inner_prod = torch.zeros(N)\n",
    "    for i in range(N):\n",
    "        inner_prod[i] = torch.randn(ni,1).T@torch.randn(ni,1)   # inner product\n",
    "    result += [torch.var(inner_prod)]\n",
    "\n",
    "plt.plot(n,result)\n",
    "plt.plot(n,n,'r') # 즉, dk가 커지면 variance도 같이 커지니깐 std(sqrt(dk))로 나눠서 dk가 함수가 아니도록 하는 것! (분산은 데이터 개수에 따라 값이 커지기도 하기 때문에)"
   ]
  },
  {
   "cell_type": "markdown",
   "id": "f44262bf",
   "metadata": {},
   "source": [
    "### Encoder"
   ]
  },
  {
   "cell_type": "code",
   "execution_count": 20,
   "id": "9baf922a",
   "metadata": {},
   "outputs": [],
   "source": [
    "class EncoderLayer(nn.Module):\n",
    "    def __init__(self, d_model, d_ff, n_heads, drop_p):\n",
    "        super().__init__()\n",
    "\n",
    "        self.self_atten = MHA(d_model, n_heads)\n",
    "        self.self_atten_LN = nn.LayerNorm(d_model)\n",
    "\n",
    "        self.FF = FeedForward(d_model, d_ff, drop_p)\n",
    "        self.FF_LN = nn.LayerNorm(d_model)\n",
    "\n",
    "        self.dropout = nn.Dropout(drop_p)\n",
    "\n",
    "    def forward(self, x, enc_mask):\n",
    "\n",
    "        residual, atten_enc = self.self_atten(x, x, x, enc_mask) # pad masking\n",
    "        residual = self.dropout(residual)\n",
    "        x = self.self_atten_LN(x + residual)\n",
    "\n",
    "        residual = self.FF(x)\n",
    "        residual = self.dropout(residual)\n",
    "        x = self.FF_LN(x + residual)\n",
    "\n",
    "        return x, atten_enc\n",
    "\n",
    "class Encoder(nn.Module):\n",
    "    def __init__(self, input_embedding, max_len, n_layers, d_model, d_ff, n_heads, drop_p):\n",
    "        super().__init__()\n",
    "        \"\"\"\n",
    "        math pakage를 통한 scaler 값인 scale를 만들지 않고, 다음과 같이 구현해야 이유:\n",
    "        1. torch.tensor()로 type 일치와 실제론 scaler지만 pytorch에서는 0차원 텐서로서 미분가능\n",
    "        2. torch.sqrt()로 GPU연산가능\n",
    "        \"\"\"\n",
    "        self.scale = torch.sqrt(torch.tensor(d_model))\n",
    "        self.input_embedding = input_embedding\n",
    "        self.pos_embedding = nn.Embedding(max_len, d_model)\n",
    "\n",
    "        self.dropout = nn.Dropout(drop_p)\n",
    "\n",
    "        self.layers = nn.ModuleList([EncoderLayer(d_model, d_ff, n_heads, drop_p) for _ in range(n_layers)])\n",
    "\n",
    "    def forward(self, src, mask, atten_map_save=False): # src.shape = 개단, mask.shape = 개헤단단\n",
    "\n",
    "        pos = torch.arange(src.shape[1]).expand_as(src).to(DEVICE)\n",
    "\n",
    "        x = self.scale*self.input_embedding(src) + self.pos_embedding(pos)  # 개단차\n",
    "        # self.scale를 곱해주면 position 보다 token 정보를 더 보게 된다. (gradient에 self.scale만큼이 더 곱해짐)\n",
    "        x = self.dropout(x)\n",
    "\n",
    "        atten_encs = torch.tensor([]).to(DEVICE)\n",
    "        for layer in self.layers:\n",
    "            x, atten_enc = layer(x, mask)\n",
    "            if atten_map_save is True:\n",
    "                atten_encs = torch.cat([atten_encs, atten_enc[0].unsqueeze(0)], dim=0)  # 층헤단단\n",
    "\n",
    "        return x, atten_encs\n"
   ]
  },
  {
   "cell_type": "markdown",
   "id": "37377d9e",
   "metadata": {},
   "source": [
    "#### expand_as, nn.embedding 실험"
   ]
  },
  {
   "cell_type": "code",
   "execution_count": 21,
   "id": "ea7b5405",
   "metadata": {},
   "outputs": [
    {
     "name": "stdout",
     "output_type": "stream",
     "text": [
      "tensor([[17852, 30557, 14802,   783,  2753],\n",
      "        [13780,  2814, 59476, 54905, 10648],\n",
      "        [21454, 17110, 22480,  4393, 46681]])\n",
      "tensor([[0, 1, 2, 3, 4],\n",
      "        [0, 1, 2, 3, 4],\n",
      "        [0, 1, 2, 3, 4]], device='cuda:0')\n"
     ]
    }
   ],
   "source": [
    "src = torch.randint(0,65000, (3,5)) # 개단\n",
    "pos = torch.arange(5).expand_as(src).to(DEVICE)\n",
    "print(src)\n",
    "print(pos)"
   ]
  },
  {
   "cell_type": "code",
   "execution_count": 22,
   "id": "aa98e8fc",
   "metadata": {},
   "outputs": [
    {
     "name": "stdout",
     "output_type": "stream",
     "text": [
      "torch.Size([10, 5])\n",
      "Parameter containing:\n",
      "tensor([[ 0.3053,  0.7740, -0.1448, -0.5994,  0.4004],\n",
      "        [-0.5822, -0.3072, -0.9433, -2.7531, -0.0236],\n",
      "        [-1.6781, -0.4184,  0.3999,  1.5914,  0.1325],\n",
      "        [ 0.8183, -0.7544, -0.8827, -1.1778, -1.6542],\n",
      "        [-1.3207, -0.6793,  0.1129, -1.0439, -0.4201],\n",
      "        [ 0.0988,  0.6815,  1.1168, -0.6703, -0.7377],\n",
      "        [-0.2685, -0.1505, -0.4780,  1.2038,  3.6673],\n",
      "        [-0.0108,  0.2441,  2.3384, -0.9031, -0.9961],\n",
      "        [-2.6855, -0.0280, -2.0526,  2.0998,  1.0727],\n",
      "        [ 0.5224,  1.2706, -0.2532,  0.6647, -0.9538]], requires_grad=True)\n",
      "tensor([-1.6781, -0.4184,  0.3999,  1.5914,  0.1325],\n",
      "       grad_fn=<EmbeddingBackward0>)\n",
      "tensor([[[-0.2685, -0.1505, -0.4780,  1.2038,  3.6673],\n",
      "         [-0.5822, -0.3072, -0.9433, -2.7531, -0.0236],\n",
      "         [-1.6781, -0.4184,  0.3999,  1.5914,  0.1325]],\n",
      "\n",
      "        [[-1.6781, -0.4184,  0.3999,  1.5914,  0.1325],\n",
      "         [-0.5822, -0.3072, -0.9433, -2.7531, -0.0236],\n",
      "         [-0.0108,  0.2441,  2.3384, -0.9031, -0.9961]]],\n",
      "       grad_fn=<EmbeddingBackward0>)\n",
      "torch.Size([2, 3, 5])\n"
     ]
    }
   ],
   "source": [
    "# nn.Embedding 실험\n",
    "emb = nn.Embedding(10, 5) # one-hot encoding 된 벡터가 통과된다는 것이 약속된 상태의 FC layer\n",
    "print(emb.weight.shape) # weight 개수는 nn.Linear(10, 5)와 동일! 단지 동작 방식이 다름\n",
    "print(emb.weight)\n",
    "print(emb(torch.tensor(2)))\n",
    "\n",
    "print(emb(torch.tensor([[6,1,2],[2,1,7]]))) # 2개 문장, 3개 단어\n",
    "print(emb(torch.tensor([[6,1,2],[2,1,7]])).shape)"
   ]
  },
  {
   "cell_type": "code",
   "execution_count": 23,
   "id": "94ffe156",
   "metadata": {},
   "outputs": [
    {
     "name": "stdout",
     "output_type": "stream",
     "text": [
      "기존 atten_encs 크기: torch.Size([2, 8, 10, 10])\n",
      "새로운 atten_enc[0] 크기: torch.Size([8, 10, 10])\n",
      "unsqueeze 후 크기: torch.Size([1, 8, 10, 10])\n",
      "최종 결과 크기: torch.Size([3, 8, 10, 10])\n"
     ]
    }
   ],
   "source": [
    "atten_encs = torch.randn(2, 8, 10, 10)  # 개헤단단\n",
    "atten_enc = torch.randn(1, 8, 10, 10)   # 개헤단단\n",
    "\n",
    "print(\"기존 atten_encs 크기:\", atten_encs.shape)\n",
    "print(\"새로운 atten_enc[0] 크기:\", atten_enc[0].shape)\n",
    "\n",
    "# unsqueeze(0)로 차원 추가\n",
    "new_attention = atten_enc[0].unsqueeze(0)\n",
    "print(\"unsqueeze 후 크기:\", new_attention.shape)\n",
    "\n",
    "# torch.cat으로 연결\n",
    "result = torch.cat([atten_encs, new_attention], dim=0)\n",
    "print(\"최종 결과 크기:\", result.shape)"
   ]
  },
  {
   "cell_type": "markdown",
   "id": "65ede3ac",
   "metadata": {},
   "source": [
    "### Decoder, 모델 전체"
   ]
  },
  {
   "cell_type": "code",
   "execution_count": null,
   "id": "0c14e086",
   "metadata": {},
   "outputs": [],
   "source": [
    "class DecoderLayer(nn.Module):\n",
    "    def __init__(self, d_model, d_ff, n_heads, drop_p):\n",
    "        super().__init__()\n",
    "\n",
    "        self.self_atten = MHA(d_model, n_heads)\n",
    "        self.self_atten_LN = nn.LayerNorm(d_model)\n",
    "\n",
    "        self.enc_dec_atten = MHA(d_model, n_heads)\n",
    "        self.enc_dec_atten_LN = nn.LayerNorm(d_model)\n",
    "\n",
    "        self.ff = FeedForward(d_model, d_ff, drop_p)\n",
    "        self.ff_LN = nn.LayerNorm(d_model)\n",
    "\n",
    "        self.dropout = nn.Dropout(drop_p)\n",
    "\n",
    "    def forward(self, x, enc_out, dec_mask, enc_dec_mask):\n",
    "\n",
    "        residual, atten_dec = self.self_atten(x, x, x, dec_mask)\n",
    "        residual = self.dropout(residual)\n",
    "        x = self.self_atten_LN(x + residual)\n",
    "\n",
    "        residual, atten_enc_dec = self.enc_dec_atten(x, enc_out, enc_out, enc_dec_mask) # Q는 decoder로부터 K,V는 인코더로 부터\n",
    "        residual = self.dropout(residual)\n",
    "        x = self.enc_dec_atten_LN(x + residual)\n",
    "\n",
    "        residual = self.ff(x)\n",
    "        residual = self.dropout(residual)\n",
    "        x = self.ff_LN(x + residual)\n",
    "\n",
    "        return x, atten_dec, atten_enc_dec\n",
    "\n"
   ]
  }
 ],
 "metadata": {
  "kernelspec": {
   "display_name": "Pytorch-GPU",
   "language": "python",
   "name": "myenv"
  },
  "language_info": {
   "codemirror_mode": {
    "name": "ipython",
    "version": 3
   },
   "file_extension": ".py",
   "mimetype": "text/x-python",
   "name": "python",
   "nbconvert_exporter": "python",
   "pygments_lexer": "ipython3",
   "version": "3.10.14"
  }
 },
 "nbformat": 4,
 "nbformat_minor": 5
}
